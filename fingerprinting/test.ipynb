{
 "cells": [
  {
   "cell_type": "code",
   "execution_count": 1,
   "id": "b7d00640",
   "metadata": {},
   "outputs": [],
   "source": [
    "import os\n",
    "import pickle\n",
    "import numpy as np\n",
    "import tcbench as tcb\n",
    "import matplotlib.pyplot as plt\n",
    "\n",
    "from scipy.spatial.distance import cdist, pdist, squareform\n",
    "from sklearn.cluster import KMeans, DBSCAN\n",
    "from sklearn.decomposition import PCA\n",
    "from sklearn.metrics import silhouette_score, adjusted_rand_score, normalized_mutual_info_score\n",
    "from sklearn.preprocessing import StandardScaler"
   ]
  },
  {
   "cell_type": "code",
   "execution_count": 5,
   "id": "f269f743",
   "metadata": {},
   "outputs": [],
   "source": [
    "vectors_baseline = np.load('artifacts-mirage19/baseline_vectors.npy')\n",
    "labels_baseline = np.load('artifacts-mirage19/baseline_labels.npy')\n",
    "vectors_embeddings = np.load('artifacts-mirage19/embeddings_vectors.npy')\n",
    "labels_embeddings = np.load('artifacts-mirage19/embeddings_labels.npy')"
   ]
  },
  {
   "cell_type": "code",
   "execution_count": 6,
   "id": "9c507dd9",
   "metadata": {},
   "outputs": [],
   "source": [
    "def kmeans (feature_matrix, k):\n",
    "    kmeans = KMeans(n_clusters=k, random_state=42, n_init=10)\n",
    "    kmeans_clusters = kmeans.fit_predict(feature_matrix)\n",
    "    return kmeans_clusters\n",
    "\n",
    "kmeans_baseline = kmeans(vectors_baseline, 20)\n",
    "kmeans_embeddings = kmeans(vectors_embeddings, 20)"
   ]
  },
  {
   "cell_type": "code",
   "execution_count": 7,
   "id": "272eb8c4",
   "metadata": {},
   "outputs": [],
   "source": [
    "def dbscan (feature_matrix):\n",
    "    dbscan = DBSCAN(eps = 0.2, min_samples = 100)\n",
    "    dbscan_clusters = dbscan.fit_predict(feature_matrix)\n",
    "    return dbscan_clusters\n",
    "\n",
    "dbscan_baseline = dbscan(vectors_baseline)\n",
    "dbscan_embeddings = dbscan(vectors_embeddings)"
   ]
  },
  {
   "cell_type": "code",
   "execution_count": 8,
   "id": "9de8faea",
   "metadata": {},
   "outputs": [
    {
     "name": "stdout",
     "output_type": "stream",
     "text": [
      "Baseline Silhouette Score: 0.3360\n",
      "Embeddings Silhouette Score: 0.1194\n",
      "Baseline Adjusted Rand Index (ARI): 0.0528\n",
      "Embeddings Adjusted Rand Index (ARI): 0.3246\n",
      "Baseline Normalized Mutual Info (NMI): 0.1219\n",
      "Embeddings Normalized Mutual Info (NMI): 0.4681\n"
     ]
    }
   ],
   "source": [
    "sil_score_baseline = silhouette_score(vectors_baseline, kmeans_baseline)\n",
    "print(f\"Baseline Silhouette Score: {sil_score_baseline:.4f}\")\n",
    "sil_score_embeddings = silhouette_score(vectors_embeddings, kmeans_embeddings)\n",
    "print(f\"Embeddings Silhouette Score: {sil_score_embeddings:.4f}\")\n",
    "\n",
    "ari_score_baseline = adjusted_rand_score(labels_baseline, kmeans_baseline)\n",
    "print(f\"Baseline Adjusted Rand Index (ARI): {ari_score_baseline:.4f}\")\n",
    "ari_score_embeddings = adjusted_rand_score(labels_embeddings, kmeans_embeddings)\n",
    "print(f\"Embeddings Adjusted Rand Index (ARI): {ari_score_embeddings:.4f}\")\n",
    "\n",
    "nmi_score_baseline = normalized_mutual_info_score(labels_baseline, kmeans_baseline)\n",
    "print(f\"Baseline Normalized Mutual Info (NMI): {nmi_score_baseline:.4f}\")\n",
    "nmi_score_embeddings = normalized_mutual_info_score(labels_embeddings, kmeans_embeddings)\n",
    "print(f\"Embeddings Normalized Mutual Info (NMI): {nmi_score_embeddings:.4f}\")"
   ]
  },
  {
   "cell_type": "code",
   "execution_count": 9,
   "id": "372ec547",
   "metadata": {},
   "outputs": [
    {
     "name": "stdout",
     "output_type": "stream",
     "text": [
      "Baseline Silhouette Score: -0.0252\n",
      "Embeddings Silhouette Score: 0.9399\n",
      "Baseline Adjusted Rand Index (ARI): 0.0141\n",
      "Embeddings Adjusted Rand Index (ARI): -0.0020\n",
      "Baseline Normalized Mutual Info (NMI): 0.1131\n",
      "Embeddings Normalized Mutual Info (NMI): 0.0954\n"
     ]
    }
   ],
   "source": [
    "valid_points_baseline = dbscan_baseline != -1\n",
    "valid_points_embeddings = dbscan_embeddings != -1\n",
    "sil_score_baseline = silhouette_score(vectors_baseline[valid_points_baseline], dbscan_baseline[valid_points_baseline])\n",
    "print(f\"Baseline Silhouette Score: {sil_score_baseline:.4f}\")\n",
    "sil_score_embeddings = silhouette_score(vectors_embeddings[valid_points_embeddings], dbscan_embeddings[valid_points_embeddings])\n",
    "print(f\"Embeddings Silhouette Score: {sil_score_embeddings:.4f}\")\n",
    "\n",
    "ari_score_baseline = adjusted_rand_score(labels_baseline, dbscan_baseline)\n",
    "print(f\"Baseline Adjusted Rand Index (ARI): {ari_score_baseline:.4f}\")\n",
    "ari_score_embeddings = adjusted_rand_score(labels_embeddings, dbscan_embeddings)\n",
    "print(f\"Embeddings Adjusted Rand Index (ARI): {ari_score_embeddings:.4f}\")\n",
    "\n",
    "nmi_score_baseline = normalized_mutual_info_score(labels_baseline, dbscan_baseline)\n",
    "print(f\"Baseline Normalized Mutual Info (NMI): {nmi_score_baseline:.4f}\")\n",
    "nmi_score_embeddings = normalized_mutual_info_score(labels_embeddings, dbscan_embeddings)\n",
    "print(f\"Embeddings Normalized Mutual Info (NMI): {nmi_score_embeddings:.4f}\")"
   ]
  },
  {
   "cell_type": "code",
   "execution_count": 6,
   "id": "8df679d9",
   "metadata": {},
   "outputs": [],
   "source": [
    "def calculate_within_class_distances(feature_matrix, true_labels, metric):\n",
    "    class_distances = {}\n",
    "    unique_labels = np.unique(true_labels)\n",
    "\n",
    "    for label in unique_labels:\n",
    "        class_indices = np.where(true_labels == label)[0]\n",
    "        class_features = feature_matrix[class_indices]\n",
    "        distances = squareform(pdist(class_features, metric))\n",
    "        class_distances[label] = distances\n",
    "\n",
    "    return class_distances\n",
    "\n",
    "def calculate_between_class_distances(feature_matrix, true_labels, metric):\n",
    "    class_distances = {}\n",
    "    unique_labels = np.unique(true_labels)\n",
    "\n",
    "    for label in unique_labels:\n",
    "        class_indices = np.where(true_labels == label)[0]\n",
    "        other_indices = np.where(true_labels != label)[0]\n",
    "        class_features = feature_matrix[class_indices]\n",
    "        other_features = feature_matrix[other_indices]\n",
    "        distances = cdist(class_features, other_features, metric)\n",
    "        class_distances[label] = distances\n",
    "\n",
    "    return class_distances"
   ]
  },
  {
   "cell_type": "code",
   "execution_count": 11,
   "id": "8b158c29",
   "metadata": {},
   "outputs": [
    {
     "data": {
      "text/plain": [
       "array([0, 0])"
      ]
     },
     "execution_count": 11,
     "metadata": {},
     "output_type": "execute_result"
    }
   ],
   "source": [
    "labels_baseline[:2]"
   ]
  },
  {
   "cell_type": "code",
   "execution_count": 12,
   "id": "ee759451",
   "metadata": {},
   "outputs": [
    {
     "data": {
      "text/plain": [
       "{0: array([[0.        , 1.01932718],\n",
       "        [1.01932718, 0.        ]])}"
      ]
     },
     "execution_count": 12,
     "metadata": {},
     "output_type": "execute_result"
    }
   ],
   "source": [
    "test_distances_within_baseline = calculate_within_class_distances(vectors_baseline[:2], labels_baseline[:2], metric='euclidean')\n",
    "test_distances_within_baseline"
   ]
  },
  {
   "cell_type": "code",
   "execution_count": 13,
   "id": "77b7139d",
   "metadata": {},
   "outputs": [
    {
     "data": {
      "text/plain": [
       "array([11, 18])"
      ]
     },
     "execution_count": 13,
     "metadata": {},
     "output_type": "execute_result"
    }
   ],
   "source": [
    "labels_embeddings[:2]"
   ]
  },
  {
   "cell_type": "code",
   "execution_count": 14,
   "id": "9fbcb116",
   "metadata": {},
   "outputs": [
    {
     "data": {
      "text/plain": [
       "{11: array([[3.61261807]]), 18: array([[3.61261807]])}"
      ]
     },
     "execution_count": 14,
     "metadata": {},
     "output_type": "execute_result"
    }
   ],
   "source": [
    "test_distances_between_embeddings = calculate_between_class_distances(vectors_embeddings[:2], labels_embeddings[:2], metric='euclidean')\n",
    "test_distances_between_embeddings"
   ]
  },
  {
   "cell_type": "code",
   "execution_count": 15,
   "id": "36fb9b1d",
   "metadata": {},
   "outputs": [
    {
     "data": {
      "text/plain": [
       "{11: array([[0.2227783]]), 18: array([[0.2227783]])}"
      ]
     },
     "execution_count": 15,
     "metadata": {},
     "output_type": "execute_result"
    }
   ],
   "source": [
    "test_distances_between_embeddings_cosine = calculate_between_class_distances(vectors_embeddings[:2], labels_embeddings[:2], metric='cosine')\n",
    "test_distances_between_embeddings_cosine"
   ]
  },
  {
   "cell_type": "code",
   "execution_count": 16,
   "id": "070577ca",
   "metadata": {},
   "outputs": [
    {
     "data": {
      "text/plain": [
       "{11: array([[0.7772217]]), 18: array([[0.7772217]])}"
      ]
     },
     "execution_count": 16,
     "metadata": {},
     "output_type": "execute_result"
    }
   ],
   "source": [
    "test_similarities_between_embeddings_cosine = {\n",
    "        label: 1 - distances for label, distances in test_distances_between_embeddings_cosine.items()\n",
    "    }\n",
    "test_similarities_between_embeddings_cosine"
   ]
  },
  {
   "cell_type": "code",
   "execution_count": null,
   "id": "cb25eb79",
   "metadata": {},
   "outputs": [],
   "source": [
    "within_class_file = \"/home/ev357/rds/hpc-work/baseline_within.pkl\"\n",
    "between_class_file = \"/home/ev357/rds/hpc-work/baseline_between.pkl\"\n",
    "\n",
    "if os.path.exists(within_class_file) and os.path.exists(between_class_file):\n",
    "    with open(within_class_file, 'rb') as f:\n",
    "        distances_within_baseline = pickle.load(f)\n",
    "    with open(between_class_file, 'rb') as f:\n",
    "        distances_between_baseline = pickle.load(f)\n",
    "else:\n",
    "    distances_within_baseline = calculate_within_class_distances(vectors_baseline, labels_baseline, metric='euclidean')\n",
    "    distances_between_baseline = calculate_between_class_distances(vectors_baseline, labels_baseline, metric='euclidean')\n",
    "    \n",
    "    with open(within_class_file, 'wb') as f:\n",
    "        pickle.dump(distances_within_baseline, f)\n",
    "    with open(between_class_file, 'wb') as f:\n",
    "        pickle.dump(distances_between_baseline, f)"
   ]
  },
  {
   "cell_type": "code",
   "execution_count": null,
   "id": "3775fb9e",
   "metadata": {},
   "outputs": [],
   "source": [
    "within_class_file = \"/home/ev357/rds/hpc-work/embeddings_within.npy\"\n",
    "between_class_file = \"/home/ev357/rds/hpc-work/embeddings_between.npy\"\n",
    "\n",
    "if os.path.exists(within_class_file) and os.path.exists(between_class_file):\n",
    "    with open(within_class_file, 'rb') as f:\n",
    "        distances_within_embeddings = pickle.load(f)\n",
    "    with open(between_class_file, 'rb') as f:\n",
    "        distances_between_embeddings = pickle.load(f)\n",
    "else:\n",
    "    distances_within_embeddings = calculate_within_class_distances(vectors_embeddings, labels_embeddings, metric='euclidean')\n",
    "    distances_between_embeddings = calculate_between_class_distances(vectors_embeddings, labels_embeddings, metric='euclidean')\n",
    "    \n",
    "    with open(within_class_file, 'wb') as f:\n",
    "        pickle.dump(distances_within_embeddings, f)\n",
    "    with open(between_class_file, 'wb') as f:\n",
    "        pickle.dump(distances_between_embeddings, f)"
   ]
  },
  {
   "cell_type": "code",
   "execution_count": null,
   "id": "25d1eec8",
   "metadata": {},
   "outputs": [],
   "source": [
    "within_class_file = \"/home/ev357/rds/hpc-work/embeddings_cosine_within.npy\"\n",
    "between_class_file = \"/home/ev357/rds/hpc-work/embeddings_cosine_between.npy\"\n",
    "\n",
    "if os.path.exists(within_class_file) and os.path.exists(between_class_file):\n",
    "    with open(within_class_file, 'rb') as f:\n",
    "        distances_within_embeddings_cosine = pickle.load(f)\n",
    "    with open(between_class_file, 'rb') as f:\n",
    "        distances_between_embeddings_cosine = pickle.load(f)\n",
    "else:\n",
    "    distances_within_embeddings_cosine = calculate_within_class_distances(vectors_embeddings, labels_embeddings, metric='cosine')\n",
    "    distances_between_embeddings_cosine = calculate_between_class_distances(vectors_embeddings, labels_embeddings, metric='cosine')\n",
    "    \n",
    "    with open(within_class_file, 'wb') as f:\n",
    "        pickle.dump(distances_within_embeddings_cosine, f)\n",
    "    with open(between_class_file, 'wb') as f:\n",
    "        pickle.dump(distances_between_embeddings_cosine, f)"
   ]
  },
  {
   "cell_type": "code",
   "execution_count": null,
   "id": "99a98676",
   "metadata": {},
   "outputs": [],
   "source": [
    "def plot_distance_histograms(class_distances_1, class_distances_2):\n",
    "    fig, axes = plt.subplots(4, 5, figsize=(20, 15))\n",
    "    axes = axes.flatten()\n",
    "\n",
    "    for i, ((label1, distances1), (label2, distances2)) in enumerate(zip(class_distances_1.items(), class_distances_2.items())):\n",
    "        ax = axes[i]\n",
    "        distances1 = distances1[np.triu_indices_from(distances1, k=1)]\n",
    "        distances2 = distances2.flatten()\n",
    "        \n",
    "        ax.hist(distances1, bins=30, alpha=0.5, color='blue', label='Within class', density=True)\n",
    "        ax.hist(distances2, bins=30, alpha=0.5, color='red', label='Between classes', density=True)\n",
    "        \n",
    "        ax.set_title(f'Class {label1}')\n",
    "        ax.set_xlabel('Distance')\n",
    "        ax.set_ylabel('Density')\n",
    "        ax.legend()\n",
    "\n",
    "    plt.tight_layout()\n",
    "    plt.show()"
   ]
  },
  {
   "cell_type": "code",
   "execution_count": null,
   "id": "4cc1198f",
   "metadata": {},
   "outputs": [],
   "source": [
    "plot_distance_histograms(distances_within_baseline, distances_between_baseline)"
   ]
  },
  {
   "cell_type": "code",
   "execution_count": null,
   "id": "6541c39d",
   "metadata": {},
   "outputs": [],
   "source": [
    "plot_distance_histograms(distances_within_embeddings, distances_between_embeddings)"
   ]
  },
  {
   "cell_type": "code",
   "execution_count": null,
   "id": "83049f6a",
   "metadata": {},
   "outputs": [],
   "source": [
    "plot_distance_histograms(distances_within_embeddings_cosine, distances_between_embeddings_cosine)"
   ]
  },
  {
   "cell_type": "code",
   "execution_count": null,
   "id": "240a4d2a",
   "metadata": {},
   "outputs": [],
   "source": [
    "within_class_file = \"/home/ev357/rds/hpc-work/embeddings_cosine_similarity_within.npy\"\n",
    "between_class_file = \"/home/ev357/rds/hpc-work/embeddings_cosine_similarity_between.npy\"\n",
    "\n",
    "if os.path.exists(within_class_file) and os.path.exists(between_class_file):\n",
    "    with open(within_class_file, 'rb') as f:\n",
    "        similarity_within_embeddings_cosine = pickle.load(f)\n",
    "    with open(between_class_file, 'rb') as f:\n",
    "        similarity_between_embeddings_cosine = pickle.load(f)\n",
    "else:\n",
    "    similarity_within_embeddings_cosine = {\n",
    "        label: 1 - distances for label, distances in distances_within_embeddings_cosine.items()\n",
    "    }\n",
    "    similarity_between_embeddings_cosine = {\n",
    "        label: 1 - distances for label, distances in distances_between_embeddings_cosine.items()\n",
    "    }\n",
    "    \n",
    "    with open(within_class_file, 'wb') as f:\n",
    "        pickle.dump(similarity_within_embeddings_cosine, f)\n",
    "    with open(between_class_file, 'wb') as f:\n",
    "        pickle.dump(similarity_between_embeddings_cosine, f)"
   ]
  },
  {
   "cell_type": "code",
   "execution_count": null,
   "id": "c6ff591f",
   "metadata": {},
   "outputs": [],
   "source": [
    "plot_distance_histograms(similarity_within_embeddings_cosine, similarity_between_embeddings_cosine)"
   ]
  },
  {
   "cell_type": "code",
   "execution_count": null,
   "id": "b29572f4",
   "metadata": {},
   "outputs": [],
   "source": [
    "def find_min_within(within_class_distances):\n",
    "    min_distances = {}\n",
    "    for label, distances in within_class_distances.items():\n",
    "        np.fill_diagonal(distances, np.inf)\n",
    "        min_distances[label] = np.min(distances, axis=1)\n",
    "    return min_distances\n",
    "\n",
    "def find_min_between(between_class_distances):\n",
    "    min_distances = {}\n",
    "    for label, distances in between_class_distances.items():\n",
    "        min_distances[label] = np.min(distances, axis=1)\n",
    "    return min_distances\n",
    "\n",
    "def find_max_within(within_class_distances):\n",
    "    max_distances = {}\n",
    "    for label, distances in within_class_distances.items():\n",
    "        distances = np.where(np.isinf(distances), np.nan, distances)\n",
    "        np.fill_diagonal(distances, np.nan)\n",
    "        max_distances[label] = np.nanmax(distances, axis=1)\n",
    "    return max_distances\n",
    "\n",
    "def find_max_between(between_class_distances):\n",
    "    max_distances = {}\n",
    "    for label, distances in between_class_distances.items():\n",
    "        distances = np.where(np.isinf(distances), np.nan, distances)\n",
    "        max_distances[label] = np.nanmax(distances, axis=1)\n",
    "    return max_distances"
   ]
  },
  {
   "cell_type": "code",
   "execution_count": null,
   "id": "abe55b42",
   "metadata": {},
   "outputs": [],
   "source": [
    "min_within_baseline = find_min_within(distances_within_baseline)\n",
    "min_between_baseline = find_min_between(distances_between_baseline)\n",
    "min_within_embeddings = find_min_within(distances_within_embeddings)\n",
    "min_between_embeddings = find_min_between(distances_between_embeddings)\n",
    "min_within_embeddings_cosine = find_min_within(distances_within_embeddings_cosine)\n",
    "min_between_embeddings_cosine = find_min_between(distances_between_embeddings_cosine)\n",
    "max_within_embeddings_cosine_similarity = find_max_within(similarity_within_embeddings_cosine)\n",
    "max_between_embeddings_cosine_similarity = find_max_between(similarity_between_embeddings_cosine)"
   ]
  },
  {
   "cell_type": "code",
   "execution_count": null,
   "id": "2500f6c7",
   "metadata": {},
   "outputs": [],
   "source": [
    "def plot_min_histograms(min_within, min_between, xlim=1):\n",
    "    fig, axes = plt.subplots(4, 5, figsize=(20, 15))\n",
    "    axes = axes.flatten()\n",
    "\n",
    "    for i, (label, min_within_distances) in enumerate(min_within.items()):\n",
    "        ax = axes[i]\n",
    "        min_between_distances = min_between[label]\n",
    "        \n",
    "        ax.hist(min_within_distances, bins=30, alpha=0.5, color='blue', label='Min within', density=True)\n",
    "        ax.hist(min_between_distances, bins=30, alpha=0.5, color='red', label='Min between', density=True)\n",
    "        \n",
    "        ax.set_title(f'Class {label}')\n",
    "        ax.set_xlabel('Distance')\n",
    "        ax.set_ylabel('Density')\n",
    "        ax.set_xlim(0, xlim)\n",
    "        ax.legend()\n",
    "\n",
    "    plt.tight_layout()\n",
    "    plt.show()\n",
    "\n",
    "\n",
    "def plot_max_histograms(max_within, max_between, xlim=0):\n",
    "    fig, axes = plt.subplots(4, 5, figsize=(20, 15))\n",
    "    axes = axes.flatten()\n",
    "\n",
    "    for i, (label, max_within_distances) in enumerate(max_within.items()):\n",
    "        ax = axes[i]\n",
    "        max_between_distances = max_between[label]\n",
    "        ax.hist(max_within_distances, bins=30, alpha=0.5, color='blue', label='Max within', density=True)\n",
    "        ax.hist(max_between_distances, bins=30, alpha=0.5, color='red', label='Max between', density=True)\n",
    "        \n",
    "        ax.set_title(f'Class {label}')\n",
    "        ax.set_xlabel('Distance')\n",
    "        ax.set_ylabel('Density')\n",
    "        ax.set_xlim(xlim, 1)\n",
    "        ax.legend()\n",
    "\n",
    "    plt.tight_layout()\n",
    "    plt.show()"
   ]
  },
  {
   "cell_type": "code",
   "execution_count": 1,
   "id": "d74eb57c",
   "metadata": {},
   "outputs": [
    {
     "ename": "NameError",
     "evalue": "name 'plot_min_histograms' is not defined",
     "output_type": "error",
     "traceback": [
      "\u001b[0;31m---------------------------------------------------------------------------\u001b[0m",
      "\u001b[0;31mNameError\u001b[0m                                 Traceback (most recent call last)",
      "Cell \u001b[0;32mIn[1], line 1\u001b[0m\n\u001b[0;32m----> 1\u001b[0m \u001b[43mplot_min_histograms\u001b[49m(min_within_baseline, min_between_baseline)\n",
      "\u001b[0;31mNameError\u001b[0m: name 'plot_min_histograms' is not defined"
     ]
    }
   ],
   "source": [
    "plot_min_histograms(min_within_baseline, min_between_baseline)"
   ]
  },
  {
   "cell_type": "code",
   "execution_count": null,
   "id": "37cf4f9a",
   "metadata": {},
   "outputs": [],
   "source": []
  }
 ],
 "metadata": {
  "kernelspec": {
   "display_name": "tcbench",
   "language": "python",
   "name": "tcbench"
  },
  "language_info": {
   "codemirror_mode": {
    "name": "ipython",
    "version": 3
   },
   "file_extension": ".py",
   "mimetype": "text/x-python",
   "name": "python",
   "nbconvert_exporter": "python",
   "pygments_lexer": "ipython3",
   "version": "3.10.16"
  }
 },
 "nbformat": 4,
 "nbformat_minor": 5
}
