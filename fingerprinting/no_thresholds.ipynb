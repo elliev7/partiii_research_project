{
 "cells": [
  {
   "cell_type": "code",
   "execution_count": 22,
   "id": "9c548bae",
   "metadata": {},
   "outputs": [],
   "source": [
    "import numpy as np\n",
    "import tcbench as tcb\n",
    "from scipy import stats\n",
    "from functions import (extract_results_splits)"
   ]
  },
  {
   "cell_type": "code",
   "execution_count": 2,
   "id": "be1850c6",
   "metadata": {},
   "outputs": [],
   "source": [
    "vectors_baseline = np.load('artifacts-mirage19/baseline_vectors.npy')\n",
    "labels_baseline = np.load('artifacts-mirage19/baseline_labels.npy')\n",
    "vectors_embeddings = np.load('artifacts-mirage19/embeddings_vectors.npy')\n",
    "labels_embeddings = np.load('artifacts-mirage19/embeddings_labels.npy')"
   ]
  },
  {
   "cell_type": "code",
   "execution_count": 3,
   "id": "0e9d20f3",
   "metadata": {},
   "outputs": [],
   "source": [
    "df_split = tcb.load_parquet(tcb.DATASETS.MIRAGE19, min_pkts=10, split=True)\n",
    "train_test_splits = [\n",
    "    (np.concatenate([df_split.iloc[0][0], df_split.iloc[0][1]]), df_split.iloc[0][2]),\n",
    "    (np.concatenate([df_split.iloc[1][0], df_split.iloc[1][1]]), df_split.iloc[1][2]),\n",
    "    (np.concatenate([df_split.iloc[2][0], df_split.iloc[2][1]]), df_split.iloc[2][2]),\n",
    "    (np.concatenate([df_split.iloc[3][0], df_split.iloc[3][1]]), df_split.iloc[3][2]),\n",
    "    (np.concatenate([df_split.iloc[4][0], df_split.iloc[4][1]]), df_split.iloc[4][2])\n",
    "]"
   ]
  },
  {
   "cell_type": "code",
   "execution_count": 4,
   "id": "d186d7de",
   "metadata": {},
   "outputs": [],
   "source": [
    "samples = [10, 100, 1000, None]"
   ]
  },
  {
   "cell_type": "code",
   "execution_count": null,
   "id": "2d5198d0",
   "metadata": {},
   "outputs": [],
   "source": [
    "coverage_results_baseline_splits, accuracy_results_baseline_splits = extract_results_splits(vectors_baseline, labels_baseline, train_test_splits, 'euclidean', 'distance', samples, [None])\n",
    "coverage_results_embeddings_splits, accuracy_results_embeddings_splits = extract_results_splits(vectors_embeddings, labels_embeddings, train_test_splits, 'euclidean', 'distance', samples, [None])\n",
    "coverage_results_embeddings_cosine_splits, accuracy_results_embeddings_cosine_splits = extract_results_splits(vectors_embeddings, labels_embeddings, train_test_splits, 'cosine', 'similarity', samples, [None])"
   ]
  },
  {
   "cell_type": "code",
   "execution_count": 19,
   "id": "baaf9150",
   "metadata": {},
   "outputs": [],
   "source": [
    "def mean_confidence_interval(data, confidence=0.95):\n",
    "    a = np.array(data)\n",
    "    n = len(a)\n",
    "    m = np.mean(a)\n",
    "    se = stats.sem(a)\n",
    "    h = se * stats.t.ppf((1 + confidence) / 2., n-1)\n",
    "    return m, m-h, m+h"
   ]
  },
  {
   "cell_type": "code",
   "execution_count": 24,
   "id": "902ff25c",
   "metadata": {},
   "outputs": [
    {
     "name": "stdout",
     "output_type": "stream",
     "text": [
      "Sample 10: 25.0954 ± 0.2904 (95% CI)\n",
      "Sample 100: 39.9333 ± 0.1671 (95% CI)\n",
      "Sample 1000: 55.8146 ± 0.1399 (95% CI)\n",
      "Sample None: 63.2315 ± 0.2206 (95% CI)\n"
     ]
    }
   ],
   "source": [
    "for k in [10, 100, 1000, None]:\n",
    "    values = accuracy_results_baseline_splits[k][None]\n",
    "    mean, lower, upper = mean_confidence_interval(values)\n",
    "    error = upper - mean\n",
    "    print(f\"Sample {k}: {mean:.4f} ± {error:.4f} (95% CI)\")"
   ]
  },
  {
   "cell_type": "code",
   "execution_count": 25,
   "id": "34921016",
   "metadata": {},
   "outputs": [
    {
     "name": "stdout",
     "output_type": "stream",
     "text": [
      "Sample 10: 55.6871 ± 0.4059 (95% CI)\n",
      "Sample 100: 66.6990 ± 0.2328 (95% CI)\n",
      "Sample 1000: 74.8875 ± 0.1937 (95% CI)\n",
      "Sample None: 78.5915 ± 0.1567 (95% CI)\n"
     ]
    }
   ],
   "source": [
    "for k in [10, 100, 1000, None]:\n",
    "    values = accuracy_results_embeddings_splits[k][None]\n",
    "    mean, lower, upper = mean_confidence_interval(values)\n",
    "    error = upper - mean\n",
    "    print(f\"Sample {k}: {mean:.4f} ± {error:.4f} (95% CI)\")"
   ]
  },
  {
   "cell_type": "code",
   "execution_count": 26,
   "id": "54b2d385",
   "metadata": {},
   "outputs": [
    {
     "name": "stdout",
     "output_type": "stream",
     "text": [
      "Sample 10: 61.5756 ± 0.4648 (95% CI)\n",
      "Sample 100: 69.7370 ± 0.2483 (95% CI)\n",
      "Sample 1000: 76.2502 ± 0.2218 (95% CI)\n",
      "Sample None: 79.5513 ± 0.2323 (95% CI)\n"
     ]
    }
   ],
   "source": [
    "for k in [10, 100, 1000, None]:\n",
    "    values = accuracy_results_embeddings_cosine_splits[k][None]\n",
    "    mean, lower, upper = mean_confidence_interval(values)\n",
    "    error = upper - mean\n",
    "    print(f\"Sample {k}: {mean:.4f} ± {error:.4f} (95% CI)\")"
   ]
  },
  {
   "cell_type": "code",
   "execution_count": null,
   "id": "0b32b7ac",
   "metadata": {},
   "outputs": [],
   "source": []
  }
 ],
 "metadata": {
  "kernelspec": {
   "display_name": "tcbench",
   "language": "python",
   "name": "python3"
  },
  "language_info": {
   "codemirror_mode": {
    "name": "ipython",
    "version": 3
   },
   "file_extension": ".py",
   "mimetype": "text/x-python",
   "name": "python",
   "nbconvert_exporter": "python",
   "pygments_lexer": "ipython3",
   "version": "3.10.16"
  }
 },
 "nbformat": 4,
 "nbformat_minor": 5
}
