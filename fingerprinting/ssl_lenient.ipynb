{
 "cells": [
  {
   "cell_type": "code",
   "execution_count": 1,
   "id": "5eede903",
   "metadata": {},
   "outputs": [],
   "source": [
    "from functions import (run_multiple_avg, run_multiple_per_class_avg)"
   ]
  },
  {
   "cell_type": "markdown",
   "id": "ee6063da",
   "metadata": {},
   "source": [
    "GLOBAL THRESHOLD -- EUCLIDEAN"
   ]
  },
  {
   "cell_type": "code",
   "execution_count": 2,
   "id": "bacb1dbe",
   "metadata": {},
   "outputs": [
    {
     "name": "stdout",
     "output_type": "stream",
     "text": [
      "Accuracy first batch: 85.38888857419482\n",
      "Accuracy last batch: 85.56519045195097\n",
      "Coverage first batch: 11.224609375\n",
      "Coverage last batch: 11.37978142076503\n"
     ]
    }
   ],
   "source": [
    "#euclidean thresholds 5 and 10\n",
    "coverage_euclidean10, accuracy_euclidean10, _, _, _ = run_multiple_avg('embeddings', 'euclidean', 'distance', 100, 5, 10, 50)\n",
    "print(f\"Accuracy first batch: {accuracy_euclidean10[0]}\")\n",
    "print(f\"Accuracy last batch: {accuracy_euclidean10[-1]}\")\n",
    "print(\"Coverage first batch:\", coverage_euclidean10[0])\n",
    "print(\"Coverage last batch:\", coverage_euclidean10[-1])"
   ]
  },
  {
   "cell_type": "code",
   "execution_count": 3,
   "id": "ca0bfd47",
   "metadata": {},
   "outputs": [
    {
     "name": "stdout",
     "output_type": "stream",
     "text": [
      "Accuracy first batch: 66.646484375\n",
      "Accuracy last batch: 66.73770491803278\n",
      "Coverage first batch: 100.0\n",
      "Coverage last batch: 100.0\n"
     ]
    }
   ],
   "source": [
    "#euclidean thresholds 5 and 30\n",
    "coverage_euclidean30, accuracy_euclidean30, _, _, _ = run_multiple_avg('embeddings', 'euclidean', 'distance', 100, 5, 30, 50)\n",
    "print(f\"Accuracy first batch: {accuracy_euclidean30[0]}\")\n",
    "print(f\"Accuracy last batch: {accuracy_euclidean30[-1]}\")\n",
    "print(\"Coverage first batch:\", coverage_euclidean30[0])\n",
    "print(\"Coverage last batch:\", coverage_euclidean30[-1])"
   ]
  },
  {
   "cell_type": "code",
   "execution_count": 4,
   "id": "716f5171",
   "metadata": {},
   "outputs": [
    {
     "name": "stdout",
     "output_type": "stream",
     "text": [
      "Accuracy first batch: 66.646484375\n",
      "Accuracy last batch: 66.73770491803278\n",
      "Coverage first batch: 100.0\n",
      "Coverage last batch: 100.0\n"
     ]
    }
   ],
   "source": [
    "#euclidean thresholds 5 and 50\n",
    "coverage_euclidean50, accuracy_euclidean50, _, _, _ = run_multiple_avg('embeddings', 'euclidean', 'distance', 100, 5, 50, 50)\n",
    "print(f\"Accuracy first batch: {accuracy_euclidean50[0]}\")\n",
    "print(f\"Accuracy last batch: {accuracy_euclidean50[-1]}\")\n",
    "print(\"Coverage first batch:\", coverage_euclidean50[0])\n",
    "print(\"Coverage last batch:\", coverage_euclidean50[-1])"
   ]
  },
  {
   "cell_type": "code",
   "execution_count": 5,
   "id": "0898cb08",
   "metadata": {},
   "outputs": [
    {
     "name": "stdout",
     "output_type": "stream",
     "text": [
      "Accuracy first batch: 66.646484375\n",
      "Accuracy last batch: 66.73770491803278\n",
      "Coverage first batch: 100.0\n",
      "Coverage last batch: 100.0\n"
     ]
    }
   ],
   "source": [
    "#euclidean thresholds 5 and 70\n",
    "coverage_euclidean70, accuracy_euclidean70, _, _, _ = run_multiple_avg('embeddings', 'euclidean', 'distance', 100, 5, 70, 50)\n",
    "print(f\"Accuracy first batch: {accuracy_euclidean70[0]}\")\n",
    "print(f\"Accuracy last batch: {accuracy_euclidean70[-1]}\")\n",
    "print(\"Coverage first batch:\", coverage_euclidean70[0])\n",
    "print(\"Coverage last batch:\", coverage_euclidean70[-1])"
   ]
  },
  {
   "cell_type": "code",
   "execution_count": 6,
   "id": "7641861d",
   "metadata": {},
   "outputs": [
    {
     "name": "stdout",
     "output_type": "stream",
     "text": [
      "Accuracy first batch: 66.646484375\n",
      "Accuracy last batch: 66.73770491803278\n",
      "Coverage first batch: 100.0\n",
      "Coverage last batch: 100.0\n"
     ]
    }
   ],
   "source": [
    "#euclidean thresholds 5 and 90\n",
    "coverage_euclidean90, accuracy_euclidean90, _, _, _ = run_multiple_avg('embeddings', 'euclidean', 'distance', 100, 5, 90, 50)\n",
    "print(f\"Accuracy first batch: {accuracy_euclidean90[0]}\")\n",
    "print(f\"Accuracy last batch: {accuracy_euclidean90[-1]}\")\n",
    "print(\"Coverage first batch:\", coverage_euclidean90[0])\n",
    "print(\"Coverage last batch:\", coverage_euclidean90[-1])"
   ]
  },
  {
   "cell_type": "markdown",
   "id": "e68c21a5",
   "metadata": {},
   "source": [
    "GLOBAL THRESHOLD -- COSINE"
   ]
  },
  {
   "cell_type": "code",
   "execution_count": 9,
   "id": "245136cf",
   "metadata": {},
   "outputs": [
    {
     "name": "stdout",
     "output_type": "stream",
     "text": [
      "Accuracy first batch: 87.09405520808588\n",
      "Accuracy last batch: 87.18028418105277\n",
      "Coverage first batch: 11.376953125\n",
      "Coverage last batch: 11.516393442622952\n"
     ]
    }
   ],
   "source": [
    "#cosine thresholds 5 and 10\n",
    "coverage_cosine10, accuracy_cosine10, _, _, _ = run_multiple_avg('embeddings', 'cosine', 'similarity', 100, 5, 10, 50)\n",
    "print(f\"Accuracy first batch: {accuracy_cosine10[0]}\")\n",
    "print(f\"Accuracy last batch: {accuracy_cosine10[-1]}\")\n",
    "print(\"Coverage first batch:\", coverage_cosine10[0])\n",
    "print(\"Coverage last batch:\", coverage_cosine10[-1])"
   ]
  },
  {
   "cell_type": "code",
   "execution_count": 8,
   "id": "382aca08",
   "metadata": {},
   "outputs": [
    {
     "name": "stdout",
     "output_type": "stream",
     "text": [
      "Accuracy first batch: 86.46560937788321\n",
      "Accuracy last batch: 87.04977671221761\n",
      "Coverage first batch: 32.259765625\n",
      "Coverage last batch: 32.251366120218584\n"
     ]
    }
   ],
   "source": [
    "#cosine thresholds 5 and 30\n",
    "coverage_cosine30, accuracy_cosine30, _, _, _ = run_multiple_avg('embeddings', 'cosine', 'similarity', 100, 5, 30, 50)\n",
    "print(f\"Accuracy first batch: {accuracy_cosine30[0]}\")\n",
    "print(f\"Accuracy last batch: {accuracy_cosine30[-1]}\")\n",
    "print(\"Coverage first batch:\", coverage_cosine30[0])\n",
    "print(\"Coverage last batch:\", coverage_cosine30[-1])"
   ]
  },
  {
   "cell_type": "code",
   "execution_count": 10,
   "id": "300a6f56",
   "metadata": {},
   "outputs": [
    {
     "name": "stdout",
     "output_type": "stream",
     "text": [
      "Accuracy first batch: 84.68843254448079\n",
      "Accuracy last batch: 84.77058768658944\n",
      "Coverage first batch: 52.37109375\n",
      "Coverage last batch: 52.50000000000001\n"
     ]
    }
   ],
   "source": [
    "#cosine thresholds 5 and 50\n",
    "coverage_cosine50, accuracy_cosine50, _, _, _ = run_multiple_avg('embeddings', 'cosine', 'similarity', 100, 5, 50, 50)\n",
    "print(f\"Accuracy first batch: {accuracy_cosine50[0]}\")\n",
    "print(f\"Accuracy last batch: {accuracy_cosine50[-1]}\")\n",
    "print(\"Coverage first batch:\", coverage_cosine50[0])\n",
    "print(\"Coverage last batch:\", coverage_cosine50[-1])"
   ]
  },
  {
   "cell_type": "code",
   "execution_count": 11,
   "id": "2701c0a7",
   "metadata": {},
   "outputs": [
    {
     "name": "stdout",
     "output_type": "stream",
     "text": [
      "Accuracy first batch: 79.68667911941284\n",
      "Accuracy last batch: 79.63857160225574\n",
      "Coverage first batch: 72.08203125\n",
      "Coverage last batch: 72.29781420765029\n"
     ]
    }
   ],
   "source": [
    "#cosine thresholds 5 and 70\n",
    "coverage_cosine70, accuracy_cosine70, _, _, _ = run_multiple_avg('embeddings', 'cosine', 'similarity', 100, 5, 70, 50)\n",
    "print(f\"Accuracy first batch: {accuracy_cosine70[0]}\")\n",
    "print(f\"Accuracy last batch: {accuracy_cosine70[-1]}\")\n",
    "print(\"Coverage first batch:\", coverage_cosine70[0])\n",
    "print(\"Coverage last batch:\", coverage_cosine70[-1])"
   ]
  },
  {
   "cell_type": "code",
   "execution_count": 12,
   "id": "df4c7e7d",
   "metadata": {},
   "outputs": [
    {
     "name": "stdout",
     "output_type": "stream",
     "text": [
      "Accuracy first batch: 73.45758567357063\n",
      "Accuracy last batch: 73.50749071063665\n",
      "Coverage first batch: 90.953125\n",
      "Coverage last batch: 90.94535519125684\n"
     ]
    }
   ],
   "source": [
    "#cosine thresholds 5 and 90\n",
    "coverage_cosine90, accuracy_cosine90, _, _, _ = run_multiple_avg('embeddings', 'cosine', 'similarity', 100, 5, 90, 50)\n",
    "print(f\"Accuracy first batch: {accuracy_cosine90[0]}\")\n",
    "print(f\"Accuracy last batch: {accuracy_cosine90[-1]}\")\n",
    "print(\"Coverage first batch:\", coverage_cosine90[0])\n",
    "print(\"Coverage last batch:\", coverage_cosine90[-1])"
   ]
  },
  {
   "cell_type": "markdown",
   "id": "d83a5359",
   "metadata": {},
   "source": [
    "PER CLASS THRESHOLDS"
   ]
  },
  {
   "cell_type": "code",
   "execution_count": null,
   "id": "9126588b",
   "metadata": {},
   "outputs": [
    {
     "name": "stdout",
     "output_type": "stream",
     "text": [
      "Accuracy first batch: 75.67507245007948\n",
      "Accuracy last batch: 74.43926229838466\n"
     ]
    }
   ],
   "source": [
    "#euclidean thresholds 5 and 10\n",
    "coverage_per_class_euclidean10, accuracy_per_class_euclidean10, _, _, _ = run_multiple_per_class_avg('embeddings', 'euclidean', 'distance', 100, 5, 10, 50)\n",
    "print(\"Accuracy first batch:\", accuracy_per_class_euclidean10[-1][0])\n",
    "print(\"Accuracy last batch:\", accuracy_per_class_euclidean10[-1][-1])\n",
    "print(\"Coverage first batch:\", coverage_per_class_euclidean10[-1][0])\n",
    "print(\"Coverage last batch:\", coverage_per_class_euclidean10[-1][-1])"
   ]
  },
  {
   "cell_type": "code",
   "execution_count": null,
   "id": "513540bd",
   "metadata": {},
   "outputs": [
    {
     "name": "stdout",
     "output_type": "stream",
     "text": [
      "Accuracy first batch: 70.56527036701922\n",
      "Accuracy last batch: 69.74843018505672\n"
     ]
    }
   ],
   "source": [
    "#euclidean thresholds 5 and 30\n",
    "coverage_per_class_euclidean30, accuracy_per_class_euclidean30, _, _, _ = run_multiple_per_class_avg('embeddings', 'euclidean', 'distance', 100, 5, 30, 50)\n",
    "print(\"Accuracy first batch:\", accuracy_per_class_euclidean30[-1][0])\n",
    "print(\"Accuracy last batch:\", accuracy_per_class_euclidean30[-1][-1])\n",
    "print(\"Coverage first batch:\", coverage_per_class_euclidean30[-1][0])\n",
    "print(\"Coverage last batch:\", coverage_per_class_euclidean30[-1][-1])"
   ]
  },
  {
   "cell_type": "code",
   "execution_count": null,
   "id": "cab6a00d",
   "metadata": {},
   "outputs": [
    {
     "name": "stdout",
     "output_type": "stream",
     "text": [
      "Accuracy first batch: 68.96543182626246\n",
      "Accuracy last batch: 68.80434673355914\n"
     ]
    }
   ],
   "source": [
    "#euclidean thresholds 5 and 50\n",
    "coverage_per_class_euclidean50, accuracy_per_class_euclidean50, _, _, _ = run_multiple_per_class_avg('embeddings', 'euclidean', 'distance', 100, 5, 50, 50)\n",
    "print(\"Accuracy first batch:\", accuracy_per_class_euclidean50[-1][0])\n",
    "print(\"Accuracy last batch:\", accuracy_per_class_euclidean50[-1][-1])\n",
    "print(\"Coverage first batch:\", coverage_per_class_euclidean50[-1][0])\n",
    "print(\"Coverage last batch:\", coverage_per_class_euclidean50[-1][-1])"
   ]
  },
  {
   "cell_type": "code",
   "execution_count": null,
   "id": "d941f3e5",
   "metadata": {},
   "outputs": [
    {
     "name": "stdout",
     "output_type": "stream",
     "text": [
      "Accuracy first batch: 67.50375262425116\n",
      "Accuracy last batch: 67.87819063592545\n"
     ]
    }
   ],
   "source": [
    "#euclidean thresholds 5 and 70\n",
    "coverage_per_class_euclidean70, accuracy_per_class_euclidean70, _, _, _ = run_multiple_per_class_avg('embeddings', 'euclidean', 'distance', 100, 5, 70, 50)\n",
    "print(\"Accuracy first batch:\", accuracy_per_class_euclidean70[-1][0])\n",
    "print(\"Accuracy last batch:\", accuracy_per_class_euclidean70[-1][-1])\n",
    "print(\"Coverage first batch:\", coverage_per_class_euclidean70[-1][0])\n",
    "print(\"Coverage last batch:\", coverage_per_class_euclidean70[-1][-1])"
   ]
  },
  {
   "cell_type": "code",
   "execution_count": null,
   "id": "655c04d7",
   "metadata": {},
   "outputs": [
    {
     "name": "stdout",
     "output_type": "stream",
     "text": [
      "Accuracy first batch: 66.83443852537204\n",
      "Accuracy last batch: 67.19058159216378\n"
     ]
    }
   ],
   "source": [
    "#euclidean thresholds 5 and 90\n",
    "coverage_per_class_euclidean90, accuracy_per_class_euclidean90, _, _, _ = run_multiple_per_class_avg('embeddings', 'euclidean', 'distance', 100, 5, 90, 50)\n",
    "print(\"Accuracy first batch:\", accuracy_per_class_euclidean90[-1][0])\n",
    "print(\"Accuracy last batch:\", accuracy_per_class_euclidean90[-1][-1])\n",
    "print(\"Coverage first batch:\", coverage_per_class_euclidean90[-1][0])\n",
    "print(\"Coverage last batch:\", coverage_per_class_euclidean90[-1][-1])"
   ]
  },
  {
   "cell_type": "code",
   "execution_count": null,
   "id": "42b7ce7f",
   "metadata": {},
   "outputs": [
    {
     "name": "stdout",
     "output_type": "stream",
     "text": [
      "Accuracy first batch: 82.89764694657157\n",
      "Accuracy last batch: 83.12655248624256\n"
     ]
    }
   ],
   "source": [
    "#cosine thresholds 5 and 10\n",
    "coverage_per_class_cosine10, accuracy_per_class_cosine10, _, _, _ = run_multiple_per_class_avg('embeddings', 'cosine', 'similarity', 100, 5, 10, 50)\n",
    "print(\"Accuracy first batch:\", accuracy_per_class_cosine10[-1][0])\n",
    "print(\"Accuracy last batch:\", accuracy_per_class_cosine10[-1][-1])\n",
    "print(\"Coverage first batch:\", coverage_per_class_cosine10[0][-1])\n",
    "print(\"Coverage last batch:\", coverage_per_class_cosine10[-1][-1])"
   ]
  },
  {
   "cell_type": "code",
   "execution_count": null,
   "id": "0ce2b9b9",
   "metadata": {},
   "outputs": [
    {
     "name": "stdout",
     "output_type": "stream",
     "text": [
      "Accuracy first batch: 82.8394758677805\n",
      "Accuracy last batch: 82.6477558921313\n"
     ]
    }
   ],
   "source": [
    "#cosine thresholds 5 and 30\n",
    "coverage_per_class_cosine30, accuracy_per_class_cosine30, _, _, _ = run_multiple_per_class_avg('embeddings', 'cosine', 'similarity', 100, 5, 30, 50)\n",
    "print(\"Accuracy first batch:\", accuracy_per_class_cosine30[-1][0])\n",
    "print(\"Accuracy last batch:\", accuracy_per_class_cosine30[-1][-1])\n",
    "print(\"Coverage first batch:\", coverage_per_class_cosine30[0][-1])\n",
    "print(\"Coverage last batch:\", coverage_per_class_cosine30[-1][-1])"
   ]
  },
  {
   "cell_type": "code",
   "execution_count": null,
   "id": "ce89da00",
   "metadata": {},
   "outputs": [
    {
     "name": "stdout",
     "output_type": "stream",
     "text": [
      "Accuracy first batch: 79.70687958055478\n",
      "Accuracy last batch: 79.76562356224447\n"
     ]
    }
   ],
   "source": [
    "#cosine thresholds 5 and 50\n",
    "coverage_per_class_cosine50, accuracy_per_class_cosine50, _, _, _ = run_multiple_per_class_avg('embeddings', 'cosine', 'similarity', 100, 5, 50, 50)\n",
    "print(\"Accuracy first batch:\", accuracy_per_class_cosine50[-1][0])\n",
    "print(\"Accuracy last batch:\", accuracy_per_class_cosine50[-1][-1])\n",
    "print(\"Coverage first batch:\", coverage_per_class_cosine50[0][-1])\n",
    "print(\"Coverage last batch:\", coverage_per_class_cosine50[-1][-1])"
   ]
  },
  {
   "cell_type": "code",
   "execution_count": null,
   "id": "e45a0638",
   "metadata": {},
   "outputs": [
    {
     "name": "stdout",
     "output_type": "stream",
     "text": [
      "Accuracy first batch: 74.82115136405073\n",
      "Accuracy last batch: 74.8894849002868\n"
     ]
    }
   ],
   "source": [
    "#cosine thresholds 5 and 70\n",
    "coverage_per_class_cosine70, accuracy_per_class_cosine70, _, _, _ = run_multiple_per_class_avg('embeddings', 'cosine', 'similarity', 100, 5, 70, 50)\n",
    "print(\"Accuracy first batch:\", accuracy_per_class_cosine70[-1][0])\n",
    "print(\"Accuracy last batch:\", accuracy_per_class_cosine70[-1][-1])\n",
    "print(\"Coverage first batch:\", coverage_per_class_cosine70[0][-1])\n",
    "print(\"Coverage last batch:\", coverage_per_class_cosine70[-1][-1])"
   ]
  },
  {
   "cell_type": "code",
   "execution_count": null,
   "id": "3269cc66",
   "metadata": {},
   "outputs": [
    {
     "name": "stdout",
     "output_type": "stream",
     "text": [
      "Accuracy first batch: 70.57060269228273\n",
      "Accuracy last batch: 70.76089071134459\n"
     ]
    }
   ],
   "source": [
    "#cosine thresholds 5 and 90\n",
    "coverage_per_class_cosine90, accuracy_per_class_cosine90, _, _, _ = run_multiple_per_class_avg('embeddings', 'cosine', 'similarity', 100, 5, 90, 50)\n",
    "print(\"Accuracy first batch:\", accuracy_per_class_cosine90[-1][0])\n",
    "print(\"Accuracy last batch:\", accuracy_per_class_cosine90[-1][-1])\n",
    "print(\"Coverage first batch:\", coverage_per_class_cosine90[0][-1])\n",
    "print(\"Coverage last batch:\", coverage_per_class_cosine90[-1][-1])"
   ]
  },
  {
   "cell_type": "code",
   "execution_count": null,
   "id": "0ac095e3",
   "metadata": {},
   "outputs": [],
   "source": []
  }
 ],
 "metadata": {
  "kernelspec": {
   "display_name": "tcbench",
   "language": "python",
   "name": "python3"
  },
  "language_info": {
   "codemirror_mode": {
    "name": "ipython",
    "version": 3
   },
   "file_extension": ".py",
   "mimetype": "text/x-python",
   "name": "python",
   "nbconvert_exporter": "python",
   "pygments_lexer": "ipython3",
   "version": "3.10.16"
  }
 },
 "nbformat": 4,
 "nbformat_minor": 5
}
