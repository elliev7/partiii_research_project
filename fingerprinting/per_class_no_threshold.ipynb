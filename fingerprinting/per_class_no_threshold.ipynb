{
 "cells": [
  {
   "cell_type": "code",
   "execution_count": 1,
   "id": "2ce9e207",
   "metadata": {},
   "outputs": [],
   "source": [
    "from functions import (build_faiss, \n",
    "                       search_faiss_per_class)"
   ]
  },
  {
   "cell_type": "code",
   "execution_count": 2,
   "id": "166b0508",
   "metadata": {},
   "outputs": [
    {
     "name": "stdout",
     "output_type": "stream",
     "text": [
      "Baseline - Coverage (%) for all classes: 100.0\n",
      "Baseline - Accuracy (%) for all classes: 63.40856031128405\n",
      "Baseline - Accuracy (%) for Class 0 : 62.25895316804407\n",
      "Baseline - Accuracy (%) for Class 1 : 74.04580152671755\n",
      "Baseline - Accuracy (%) for Class 2 : 42.44897959183673\n",
      "Baseline - Accuracy (%) for Class 3 : 28.640776699029125\n",
      "Baseline - Accuracy (%) for Class 4 : 49.152542372881356\n",
      "Baseline - Accuracy (%) for Class 5 : 60.16042780748663\n",
      "Baseline - Accuracy (%) for Class 6 : 89.47368421052632\n",
      "Baseline - Accuracy (%) for Class 7 : 62.091503267973856\n",
      "Baseline - Accuracy (%) for Class 8 : 37.65432098765432\n",
      "Baseline - Accuracy (%) for Class 9 : 53.47222222222222\n",
      "Baseline - Accuracy (%) for Class 10 : 71.90412782956058\n",
      "Baseline - Accuracy (%) for Class 11 : 60.0\n",
      "Baseline - Accuracy (%) for Class 12 : 58.10055865921788\n",
      "Baseline - Accuracy (%) for Class 13 : 59.24764890282132\n",
      "Baseline - Accuracy (%) for Class 14 : 52.66903914590747\n",
      "Baseline - Accuracy (%) for Class 15 : 68.13186813186813\n",
      "Baseline - Accuracy (%) for Class 16 : 70.3030303030303\n",
      "Baseline - Accuracy (%) for Class 17 : 68.08510638297872\n",
      "Baseline - Accuracy (%) for Class 18 : 56.08108108108109\n",
      "Baseline - Accuracy (%) for Class 19 : 32.35294117647059\n"
     ]
    }
   ],
   "source": [
    "index_baseline, selected_indices_baseline = build_faiss('baseline', 'euclidean', None)\n",
    "per_class_metrics_baseline = search_faiss_per_class('baseline', selected_indices_baseline, index_baseline, \"distance\", None)\n",
    "print(\"Baseline - Coverage (%) for all classes: 100.0\")\n",
    "print(\"Baseline - Accuracy (%) for all classes:\", per_class_metrics_baseline[-1]['match_percentage'])\n",
    "\n",
    "for i in range(20):\n",
    "    print(\"Baseline - Accuracy (%) for Class\", i, \":\", per_class_metrics_baseline[i]['match_percentage'])"
   ]
  },
  {
   "cell_type": "code",
   "execution_count": 3,
   "id": "7237df2b",
   "metadata": {},
   "outputs": [
    {
     "name": "stdout",
     "output_type": "stream",
     "text": [
      "Embeddings - Coverage (%) for all classes: 100.0\n",
      "Embeddings - Accuracy (%) for all classes: 78.94163424124514\n",
      "Embeddings - Accuracy (%) for Class 0 : 79.06336088154269\n",
      "Embeddings - Accuracy (%) for Class 1 : 85.24173027989822\n",
      "Embeddings - Accuracy (%) for Class 2 : 66.53061224489795\n",
      "Embeddings - Accuracy (%) for Class 3 : 63.10679611650486\n",
      "Embeddings - Accuracy (%) for Class 4 : 55.932203389830505\n",
      "Embeddings - Accuracy (%) for Class 5 : 75.40106951871658\n",
      "Embeddings - Accuracy (%) for Class 6 : 95.84487534626038\n",
      "Embeddings - Accuracy (%) for Class 7 : 81.04575163398692\n",
      "Embeddings - Accuracy (%) for Class 8 : 64.19753086419753\n",
      "Embeddings - Accuracy (%) for Class 9 : 76.04166666666666\n",
      "Embeddings - Accuracy (%) for Class 10 : 85.21970705725698\n",
      "Embeddings - Accuracy (%) for Class 11 : 80.93023255813954\n",
      "Embeddings - Accuracy (%) for Class 12 : 78.2122905027933\n",
      "Embeddings - Accuracy (%) for Class 13 : 76.48902821316614\n",
      "Embeddings - Accuracy (%) for Class 14 : 66.90391459074732\n",
      "Embeddings - Accuracy (%) for Class 15 : 80.58608058608058\n",
      "Embeddings - Accuracy (%) for Class 16 : 82.12121212121211\n",
      "Embeddings - Accuracy (%) for Class 17 : 74.46808510638297\n",
      "Embeddings - Accuracy (%) for Class 18 : 66.21621621621621\n",
      "Embeddings - Accuracy (%) for Class 19 : 61.76470588235294\n"
     ]
    }
   ],
   "source": [
    "index_embeddings, selected_indices_embeddings = build_faiss('embeddings', 'euclidean', None)\n",
    "per_class_metrics_embeddings = search_faiss_per_class('embeddings', selected_indices_embeddings, index_embeddings, \"distance\", None)\n",
    "print(\"Embeddings - Coverage (%) for all classes: 100.0\")\n",
    "print(\"Embeddings - Accuracy (%) for all classes:\", per_class_metrics_embeddings[-1]['match_percentage'])\n",
    "\n",
    "for i in range(20):\n",
    "    print(\"Embeddings - Accuracy (%) for Class\", i, \":\", per_class_metrics_embeddings[i]['match_percentage'])"
   ]
  },
  {
   "cell_type": "code",
   "execution_count": 4,
   "id": "ebf09601",
   "metadata": {},
   "outputs": [
    {
     "name": "stdout",
     "output_type": "stream",
     "text": [
      "Embeddings Cosine - Coverage (%) for all classes: 100.0\n",
      "Embeddings Cosine - Accuracy (%) for all classes: 80.46692607003891\n",
      "Embeddings Cosine - Accuracy (%) for Class 0 : 80.16528925619835\n",
      "Embeddings Cosine - Accuracy (%) for Class 1 : 87.27735368956743\n",
      "Embeddings Cosine - Accuracy (%) for Class 2 : 69.38775510204081\n",
      "Embeddings Cosine - Accuracy (%) for Class 3 : 63.10679611650486\n",
      "Embeddings Cosine - Accuracy (%) for Class 4 : 58.47457627118644\n",
      "Embeddings Cosine - Accuracy (%) for Class 5 : 77.54010695187165\n",
      "Embeddings Cosine - Accuracy (%) for Class 6 : 95.84487534626038\n",
      "Embeddings Cosine - Accuracy (%) for Class 7 : 83.44226579520696\n",
      "Embeddings Cosine - Accuracy (%) for Class 8 : 64.19753086419753\n",
      "Embeddings Cosine - Accuracy (%) for Class 9 : 76.73611111111111\n",
      "Embeddings Cosine - Accuracy (%) for Class 10 : 87.0838881491345\n",
      "Embeddings Cosine - Accuracy (%) for Class 11 : 81.62790697674419\n",
      "Embeddings Cosine - Accuracy (%) for Class 12 : 81.00558659217877\n",
      "Embeddings Cosine - Accuracy (%) for Class 13 : 78.68338557993731\n",
      "Embeddings Cosine - Accuracy (%) for Class 14 : 68.68327402135232\n",
      "Embeddings Cosine - Accuracy (%) for Class 15 : 83.15018315018315\n",
      "Embeddings Cosine - Accuracy (%) for Class 16 : 83.93939393939394\n",
      "Embeddings Cosine - Accuracy (%) for Class 17 : 75.53191489361703\n",
      "Embeddings Cosine - Accuracy (%) for Class 18 : 68.24324324324324\n",
      "Embeddings Cosine - Accuracy (%) for Class 19 : 63.725490196078425\n"
     ]
    }
   ],
   "source": [
    "index_embeddings_cosine, selected_indices_embeddings_cosine = build_faiss('embeddings', 'cosine', None)\n",
    "per_class_embeddings_cosine = search_faiss_per_class('embeddings', selected_indices_embeddings_cosine, index_embeddings_cosine, \"similarity\", None)\n",
    "print(\"Embeddings Cosine - Coverage (%) for all classes: 100.0\")\n",
    "print(\"Embeddings Cosine - Accuracy (%) for all classes:\", per_class_embeddings_cosine[-1]['match_percentage'])\n",
    "\n",
    "for i in range(20):\n",
    "    print(\"Embeddings Cosine - Accuracy (%) for Class\", i, \":\", per_class_embeddings_cosine[i]['match_percentage'])"
   ]
  }
 ],
 "metadata": {
  "kernelspec": {
   "display_name": "tcbench",
   "language": "python",
   "name": "python3"
  },
  "language_info": {
   "codemirror_mode": {
    "name": "ipython",
    "version": 3
   },
   "file_extension": ".py",
   "mimetype": "text/x-python",
   "name": "python",
   "nbconvert_exporter": "python",
   "pygments_lexer": "ipython3",
   "version": "3.10.16"
  }
 },
 "nbformat": 4,
 "nbformat_minor": 5
}
