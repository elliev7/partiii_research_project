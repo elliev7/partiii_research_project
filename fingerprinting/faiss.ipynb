{
 "cells": [
  {
   "cell_type": "code",
   "execution_count": 17,
   "metadata": {},
   "outputs": [],
   "source": [
    "import numpy as np\n",
    "import tcbench as tcb\n",
    "import faiss"
   ]
  },
  {
   "cell_type": "code",
   "execution_count": 18,
   "metadata": {},
   "outputs": [],
   "source": [
    "vectors_baseline = np.load('artifacts-mirage19/baseline_vectors.npy')\n",
    "labels_baseline = np.load('artifacts-mirage19/baseline_labels.npy')\n",
    "\n",
    "vectors_embeddings = np.load('artifacts-mirage19/embeddings_vectors.npy')\n",
    "labels_embeddings = np.load('artifacts-mirage19/embeddings_labels.npy')"
   ]
  },
  {
   "cell_type": "code",
   "execution_count": 19,
   "metadata": {},
   "outputs": [],
   "source": [
    "df_split = tcb.load_parquet(tcb.DATASETS.MIRAGE19, min_pkts=10, split=True)\n",
    "train_val_indices = np.concatenate([df_split.iloc[0][0], df_split.iloc[0][1]])\n",
    "test_indices = df_split.iloc[0][2]"
   ]
  },
  {
   "cell_type": "code",
   "execution_count": 20,
   "metadata": {},
   "outputs": [],
   "source": [
    "def build_faiss_index(data, train_indices, distance_type):\n",
    "    filtered_data = data[train_indices]\n",
    "    d = filtered_data.shape[1]\n",
    "    \n",
    "    if distance_type == 'euclidean':\n",
    "        index = faiss.IndexFlatL2(d)\n",
    "    elif distance_type == 'cosine':\n",
    "        index = faiss.IndexFlatIP(d)\n",
    "    else:\n",
    "        raise ValueError(\"Unsupported distance type. Use 'euclidean' or 'cosine'.\")\n",
    "\n",
    "    index.add(filtered_data)\n",
    "    return index"
   ]
  },
  {
   "cell_type": "code",
   "execution_count": 21,
   "metadata": {},
   "outputs": [],
   "source": [
    "def search_and_compare_labels(data, labels, test_indices, train_indices, index, k=5):\n",
    "\n",
    "    D, I = index.search(data[test_indices], k)\n",
    "\n",
    "    test_labels = labels[test_indices]\n",
    "    neighbor_labels = labels[train_indices[I.flatten()]].reshape(I.shape)\n",
    "\n",
    "    top_1_matches = 0\n",
    "    top_3_matches = 0\n",
    "    top_5_matches = 0\n",
    "\n",
    "    for i in range(len(test_labels)):\n",
    "        top_1_match = test_labels[i] in neighbor_labels[i, :1]\n",
    "        top_3_match = test_labels[i] in neighbor_labels[i, :3]\n",
    "        top_5_match = test_labels[i] in neighbor_labels[i, :5]\n",
    "\n",
    "        if top_1_match:\n",
    "            top_1_matches += 1\n",
    "        if top_3_match:\n",
    "            top_3_matches += 1\n",
    "        if top_5_match:\n",
    "            top_5_matches += 1\n",
    "\n",
    "    total_tests = len(test_labels)\n",
    "    top_1_percentage = (top_1_matches / total_tests) * 100\n",
    "    top_3_percentage = (top_3_matches / total_tests) * 100\n",
    "    top_5_percentage = (top_5_matches / total_tests) * 100\n",
    "\n",
    "    return top_1_percentage, top_3_percentage, top_5_percentage"
   ]
  },
  {
   "cell_type": "code",
   "execution_count": 22,
   "metadata": {},
   "outputs": [
    {
     "name": "stdout",
     "output_type": "stream",
     "text": [
      "Baseline match in top 1 neighbor: 64.38%\n",
      "Baseline match in top 3 neighbors: 74.17%\n",
      "Baseline match in top 5 neighbors: 78.17%\n"
     ]
    }
   ],
   "source": [
    "index_baseline = build_faiss_index(vectors_baseline, train_val_indices, distance_type='euclidean')\n",
    "top_1_baseline, top_3_baseline, top_5_baseline = search_and_compare_labels(vectors_baseline, labels_baseline, test_indices, train_val_indices, index_baseline, k=5)\n",
    "\n",
    "print(f\"Baseline match in top 1 neighbor: {top_1_baseline:.2f}%\")\n",
    "print(f\"Baseline match in top 3 neighbors: {top_3_baseline:.2f}%\")\n",
    "print(f\"Baseline match in top 5 neighbors: {top_5_baseline:.2f}%\")"
   ]
  },
  {
   "cell_type": "code",
   "execution_count": 23,
   "metadata": {},
   "outputs": [
    {
     "name": "stdout",
     "output_type": "stream",
     "text": [
      "Embeddings match in top 1 neighbor: 20.29%\n",
      "Embeddings match in top 3 neighbors: 41.63%\n",
      "Embeddings match in top 5 neighbors: 48.29%\n"
     ]
    }
   ],
   "source": [
    "index_embeddings = build_faiss_index(vectors_embeddings, train_val_indices, distance_type='cosine')\n",
    "top_1_embeddings, top_3_embeddings, top_5_embeddings = search_and_compare_labels(vectors_embeddings, labels_embeddings, test_indices, train_val_indices, index_embeddings, k=5)\n",
    "\n",
    "print(f\"Embeddings match in top 1 neighbor: {top_1_embeddings:.2f}%\")\n",
    "print(f\"Embeddings match in top 3 neighbors: {top_3_embeddings:.2f}%\")\n",
    "print(f\"Embeddings match in top 5 neighbors: {top_5_embeddings:.2f}%\")"
   ]
  },
  {
   "cell_type": "code",
   "execution_count": null,
   "metadata": {},
   "outputs": [],
   "source": []
  }
 ],
 "metadata": {
  "kernelspec": {
   "display_name": "tcbench",
   "language": "python",
   "name": "python3"
  },
  "language_info": {
   "codemirror_mode": {
    "name": "ipython",
    "version": 3
   },
   "file_extension": ".py",
   "mimetype": "text/x-python",
   "name": "python",
   "nbconvert_exporter": "python",
   "pygments_lexer": "ipython3",
   "version": "3.10.16"
  }
 },
 "nbformat": 4,
 "nbformat_minor": 2
}
