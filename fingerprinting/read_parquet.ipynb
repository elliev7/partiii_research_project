{
 "cells": [
  {
   "cell_type": "code",
   "execution_count": 2,
   "metadata": {},
   "outputs": [],
   "source": [
    "import pandas as pd"
   ]
  },
  {
   "cell_type": "code",
   "execution_count": 5,
   "metadata": {},
   "outputs": [
    {
     "name": "stdout",
     "output_type": "stream",
     "text": [
      "Index(['row_id', 'conn_id', 'packet_data_src_port', 'packet_data_dst_port',\n",
      "       'packet_data_packet_dir', 'packet_data_l4_payload_bytes',\n",
      "       'packet_data_iat', 'packet_data_tcp_win_size',\n",
      "       'packet_data_l4_raw_payload', 'flow_features_packet_length_biflow_min',\n",
      "       ...\n",
      "       'strings', 'android_name', 'device_name', 'app', 'src_ip', 'src_port',\n",
      "       'dst_ip', 'dst_port', 'proto', 'packets'],\n",
      "      dtype='object', length=135)\n"
     ]
    }
   ],
   "source": [
    "df = pd.read_parquet('/home/ev357/miniconda3/envs/tcbench/lib/python3.10/site-packages/tcbench/libtcdatasets/datasets/mirage19/preprocessed/mirage19.parquet')\n",
    "print(df.columns)"
   ]
  },
  {
   "cell_type": "code",
   "execution_count": null,
   "metadata": {},
   "outputs": [
    {
     "name": "stdout",
     "output_type": "stream",
     "text": [
      "Index(['row_id', 'conn_id', 'packet_data_l4_raw_payload',\n",
      "       'flow_metadata_bf_label', 'flow_metadata_bf_labeling_type',\n",
      "       'flow_metadata_bf_l4_payload_bytes', 'flow_metadata_bf_duration',\n",
      "       'strings', 'android_name', 'device_name', 'app', 'src_ip', 'src_port',\n",
      "       'dst_ip', 'dst_port', 'proto', 'packets', 'pkts_size', 'pkts_dir',\n",
      "       'timetofirst'],\n",
      "      dtype='object')\n"
     ]
    }
   ],
   "source": [
    "df = pd.read_parquet('/home/ev357/miniconda3/envs/tcbench/lib/python3.10/site-packages/tcbench/libtcdatasets/datasets/mirage19/preprocessed/imc23/mirage19_filtered_minpkts10.parquet')\n",
    "print(df.columns)"
   ]
  },
  {
   "cell_type": "code",
   "execution_count": 9,
   "metadata": {},
   "outputs": [
    {
     "name": "stdout",
     "output_type": "stream",
     "text": [
      "Index(['row_id', 'conn_id', 'packet_data_timestamp', 'packet_data_src_port',\n",
      "       'packet_data_dst_port', 'packet_data_packet_dir',\n",
      "       'packet_data_ip_packet_bytes', 'packet_data_ip_header_bytes',\n",
      "       'packet_data_l4_payload_bytes', 'packet_data_l4_header_bytes',\n",
      "       ...\n",
      "       'strings', 'android_name', 'device_name', 'app', 'src_ip', 'src_port',\n",
      "       'dst_ip', 'dst_port', 'proto', 'packets'],\n",
      "      dtype='object', length=153)\n"
     ]
    }
   ],
   "source": [
    "df = pd.read_parquet('/home/ev357/miniconda3/envs/tcbench/lib/python3.10/site-packages/tcbench/libtcdatasets/datasets/mirage22/preprocessed/mirage22.parquet')\n",
    "print(df.columns)"
   ]
  },
  {
   "cell_type": "code",
   "execution_count": 10,
   "metadata": {},
   "outputs": [
    {
     "name": "stdout",
     "output_type": "stream",
     "text": [
      "Index(['row_id', 'conn_id', 'packet_data_l4_raw_payload',\n",
      "       'flow_metadata_bf_label', 'flow_metadata_bf_activity',\n",
      "       'flow_metadata_bf_labeling_type', 'flow_metadata_bf_l4_payload_bytes',\n",
      "       'flow_metadata_bf_duration', 'strings', 'android_name', 'device_name',\n",
      "       'app', 'src_ip', 'src_port', 'dst_ip', 'dst_port', 'proto', 'packets',\n",
      "       'pkts_size', 'pkts_dir', 'timetofirst'],\n",
      "      dtype='object')\n"
     ]
    }
   ],
   "source": [
    "df = pd.read_parquet('/home/ev357/miniconda3/envs/tcbench/lib/python3.10/site-packages/tcbench/libtcdatasets/datasets/mirage22/preprocessed/imc23/mirage22_filtered_minpkts10.parquet')\n",
    "print(df.columns)"
   ]
  },
  {
   "cell_type": "code",
   "execution_count": 11,
   "metadata": {},
   "outputs": [
    {
     "name": "stdout",
     "output_type": "stream",
     "text": [
      "Index(['row_id', 'conn_id', 'packet_data_l4_raw_payload',\n",
      "       'flow_metadata_bf_label', 'flow_metadata_bf_activity',\n",
      "       'flow_metadata_bf_labeling_type', 'flow_metadata_bf_l4_payload_bytes',\n",
      "       'flow_metadata_bf_duration', 'strings', 'android_name', 'device_name',\n",
      "       'app', 'src_ip', 'src_port', 'dst_ip', 'dst_port', 'proto', 'packets',\n",
      "       'pkts_size', 'pkts_dir', 'timetofirst'],\n",
      "      dtype='object')\n"
     ]
    }
   ],
   "source": [
    "df = pd.read_parquet('/home/ev357/miniconda3/envs/tcbench/lib/python3.10/site-packages/tcbench/libtcdatasets/datasets/mirage22/preprocessed/imc23/mirage22_filtered_minpkts1000.parquet')\n",
    "print(df.columns)"
   ]
  },
  {
   "cell_type": "code",
   "execution_count": null,
   "metadata": {},
   "outputs": [],
   "source": []
  }
 ],
 "metadata": {
  "kernelspec": {
   "display_name": "tcbench",
   "language": "python",
   "name": "python3"
  },
  "language_info": {
   "codemirror_mode": {
    "name": "ipython",
    "version": 3
   },
   "file_extension": ".py",
   "mimetype": "text/x-python",
   "name": "python",
   "nbconvert_exporter": "python",
   "pygments_lexer": "ipython3",
   "version": "3.10.16"
  }
 },
 "nbformat": 4,
 "nbformat_minor": 2
}
