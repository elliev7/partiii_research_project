{
 "cells": [
  {
   "cell_type": "code",
   "execution_count": 1,
   "id": "93f6ec4c",
   "metadata": {},
   "outputs": [],
   "source": [
    "import numpy as np\n",
    "import tcbench as tcb\n",
    "from scipy.spatial.distance import cdist, pdist, squareform\n",
    "from functions import (build_faiss_index, \n",
    "                       search_and_compare_labels)"
   ]
  },
  {
   "cell_type": "code",
   "execution_count": 2,
   "id": "1de7c2b6",
   "metadata": {},
   "outputs": [],
   "source": [
    "vectors_baseline = np.load('/home/ev357/tcbench/src/fingerprinting/artifacts-mirage19/baseline_vectors.npy')\n",
    "labels_baseline = np.load('/home/ev357/tcbench/src/fingerprinting/artifacts-mirage19/baseline_labels.npy')\n",
    "vectors_embeddings = np.load('/home/ev357/tcbench/src/fingerprinting/artifacts-mirage19/embeddings_vectors.npy')\n",
    "labels_embeddings = np.load('/home/ev357/tcbench/src/fingerprinting/artifacts-mirage19/embeddings_labels.npy')"
   ]
  },
  {
   "cell_type": "code",
   "execution_count": 3,
   "id": "cceaadfd",
   "metadata": {},
   "outputs": [],
   "source": [
    "def calculate_within_class_distances(feature_matrix, true_labels, metric):\n",
    "    class_distances = {}\n",
    "    unique_labels = np.unique(true_labels)\n",
    "\n",
    "    for label in unique_labels:\n",
    "        class_indices = np.where(true_labels == label)[0]\n",
    "        class_features = feature_matrix[class_indices]\n",
    "        distances = squareform(pdist(class_features, metric))\n",
    "        class_distances[label] = distances\n",
    "\n",
    "    return class_distances\n",
    "\n",
    "def calculate_between_class_distances(feature_matrix, true_labels, metric):\n",
    "    class_distances = {}\n",
    "    unique_labels = np.unique(true_labels)\n",
    "\n",
    "    for label in unique_labels:\n",
    "        class_indices = np.where(true_labels == label)[0]\n",
    "        other_indices = np.where(true_labels != label)[0]\n",
    "        class_features = feature_matrix[class_indices]\n",
    "        other_features = feature_matrix[other_indices]\n",
    "        distances = cdist(class_features, other_features, metric)\n",
    "        class_distances[label] = distances\n",
    "\n",
    "    return class_distances"
   ]
  },
  {
   "cell_type": "code",
   "execution_count": 4,
   "id": "b52a05a3",
   "metadata": {},
   "outputs": [],
   "source": [
    "def search_and_compare_labels_range(data, test_indices, index, metric):\n",
    "    if metric == \"distance\":\n",
    "        max_limit = np.inf\n",
    "        lims, D, I = index.range_search(data[test_indices], max_limit)\n",
    "        min_distance = np.sqrt(D[0])\n",
    "\n",
    "    elif metric == \"similarity\":\n",
    "        max_limit = 0\n",
    "        query_vectors = data[test_indices]\n",
    "        query_vectors = query_vectors / np.linalg.norm(query_vectors, axis=1, keepdims=True)\n",
    "        lims, D, I = index.range_search(query_vectors, max_limit)\n",
    "        min_distance = D[0]\n",
    "    \n",
    "    return min_distance"
   ]
  },
  {
   "cell_type": "code",
   "execution_count": 5,
   "id": "c17412fc",
   "metadata": {},
   "outputs": [],
   "source": [
    "df_split = tcb.load_parquet(tcb.DATASETS.MIRAGE19, min_pkts=10, split=True)\n",
    "train_val_indices = np.concatenate([df_split.iloc[0][0], df_split.iloc[0][1]])\n",
    "test_indices = df_split.iloc[0][2]"
   ]
  },
  {
   "cell_type": "code",
   "execution_count": 6,
   "id": "4ea6553a",
   "metadata": {},
   "outputs": [
    {
     "name": "stdout",
     "output_type": "stream",
     "text": [
      "[6 6]\n",
      "{6: array([[0.        , 1.01932718],\n",
      "       [1.01932718, 0.        ]])}\n"
     ]
    }
   ],
   "source": [
    "print(labels_baseline[:2])\n",
    "test_distances_within_baseline = calculate_within_class_distances(vectors_baseline[:2], labels_baseline[:2], metric='euclidean')\n",
    "print(test_distances_within_baseline)"
   ]
  },
  {
   "cell_type": "code",
   "execution_count": 7,
   "id": "47365d15",
   "metadata": {},
   "outputs": [
    {
     "name": "stdout",
     "output_type": "stream",
     "text": [
      "[1.0193273]\n",
      "1.0193273\n"
     ]
    }
   ],
   "source": [
    "test_index_baseline, test_selected_indices_baseline = build_faiss_index(vectors_baseline[:2], labels_baseline[:2], np.array([0]), 'euclidean', None)\n",
    "test_coverage_percentage_baseline, test_match_percentage_baseline, test_min_distances_baseline = search_and_compare_labels(vectors_baseline[:2], labels_baseline[:2], np.array([1]), test_selected_indices_baseline, test_index_baseline, \"distance\", None)\n",
    "print(test_min_distances_baseline)\n",
    "test_min_distance_baseline = search_and_compare_labels_range(vectors_baseline[:2], np.array([1]), test_index_baseline, \"distance\")\n",
    "print(test_min_distance_baseline)"
   ]
  },
  {
   "cell_type": "code",
   "execution_count": 8,
   "id": "90282904",
   "metadata": {},
   "outputs": [
    {
     "name": "stdout",
     "output_type": "stream",
     "text": [
      "[11 18]\n",
      "{11: array([[3.61261807]]), 18: array([[3.61261807]])}\n"
     ]
    }
   ],
   "source": [
    "print(labels_embeddings[:2])\n",
    "test_distances_between_embeddings = calculate_between_class_distances(vectors_embeddings[:2], labels_embeddings[:2], metric='euclidean')\n",
    "print(test_distances_between_embeddings)"
   ]
  },
  {
   "cell_type": "code",
   "execution_count": 9,
   "id": "b6b40e74",
   "metadata": {},
   "outputs": [
    {
     "name": "stdout",
     "output_type": "stream",
     "text": [
      "[3.612618]\n",
      "3.612618\n"
     ]
    }
   ],
   "source": [
    "test_index_embeddings, test_selected_indices_embeddings = build_faiss_index(vectors_embeddings[:2], labels_embeddings[:2], np.array([0]), 'euclidean', None)\n",
    "test_coverage_percentage_embeddings, test_match_percentage_embeddings, test_min_distances_embeddings = search_and_compare_labels(vectors_embeddings[:2], labels_embeddings[:2], np.array([1]), test_selected_indices_embeddings, test_index_embeddings, \"distance\", None)\n",
    "print(test_min_distances_embeddings)\n",
    "test_min_distance_embeddings = search_and_compare_labels_range(vectors_embeddings[:2], np.array([1]), test_index_embeddings, \"distance\")\n",
    "print(test_min_distance_embeddings)"
   ]
  },
  {
   "cell_type": "code",
   "execution_count": 10,
   "id": "38863e97",
   "metadata": {},
   "outputs": [
    {
     "name": "stdout",
     "output_type": "stream",
     "text": [
      "[11 18]\n",
      "{11: array([[0.2227783]]), 18: array([[0.2227783]])}\n",
      "{11: array([[0.7772217]]), 18: array([[0.7772217]])}\n"
     ]
    }
   ],
   "source": [
    "print(labels_embeddings[:2])\n",
    "test_distances_between_embeddings_cosine = calculate_between_class_distances(vectors_embeddings[:2], labels_embeddings[:2], metric='cosine')\n",
    "print(test_distances_between_embeddings_cosine)\n",
    "test_similarities_between_embeddings_cosine = {\n",
    "        label: 1 - distances for label, distances in test_distances_between_embeddings_cosine.items()\n",
    "    }\n",
    "print(test_similarities_between_embeddings_cosine)\n",
    "    "
   ]
  },
  {
   "cell_type": "code",
   "execution_count": 11,
   "id": "a778877f",
   "metadata": {},
   "outputs": [
    {
     "name": "stdout",
     "output_type": "stream",
     "text": [
      "[0.7772217]\n",
      "0.7772217\n"
     ]
    }
   ],
   "source": [
    "test_index_embeddings_cosine, test_selected_indices_embeddings_cosine = build_faiss_index(vectors_embeddings[:2], labels_embeddings[:2], np.array([0]), 'cosine', None)\n",
    "test_coverage_percentage_embeddings_cosine, test_match_percentage_embeddings_cosine, test_min_distances_embeddings_cosine = search_and_compare_labels(vectors_embeddings[:2], labels_embeddings[:2], np.array([1]), test_selected_indices_embeddings_cosine, test_index_embeddings_cosine, \"similarity\", None)\n",
    "print(test_min_distances_embeddings_cosine)\n",
    "test_min_distance_embeddings_cosine = search_and_compare_labels_range(vectors_embeddings[:2], np.array([1]), test_index_embeddings_cosine, \"similarity\")\n",
    "print(test_min_distance_embeddings_cosine)"
   ]
  }
 ],
 "metadata": {
  "kernelspec": {
   "display_name": "tcbench",
   "language": "python",
   "name": "python3"
  },
  "language_info": {
   "codemirror_mode": {
    "name": "ipython",
    "version": 3
   },
   "file_extension": ".py",
   "mimetype": "text/x-python",
   "name": "python",
   "nbconvert_exporter": "python",
   "pygments_lexer": "ipython3",
   "version": "3.10.16"
  }
 },
 "nbformat": 4,
 "nbformat_minor": 5
}
