{
 "cells": [
  {
   "cell_type": "code",
   "execution_count": 19,
   "id": "56f0a157",
   "metadata": {},
   "outputs": [],
   "source": [
    "import pickle\n",
    "from functions import extract_results_automated_splits, extract_results_automated_per_class_splits_avg\n"
   ]
  },
  {
   "cell_type": "code",
   "execution_count": 7,
   "id": "67c43db1",
   "metadata": {},
   "outputs": [],
   "source": [
    "samples = [100]\n",
    "percentiles = [1, 5, 10, 20, 30, 40, 50, 60, 70, 80, 90, 95, 99]"
   ]
  },
  {
   "cell_type": "code",
   "execution_count": 8,
   "id": "85c35206",
   "metadata": {},
   "outputs": [
    {
     "name": "stdout",
     "output_type": "stream",
     "text": [
      "100 {1: np.float32(0.0), 5: np.float32(0.001953125), 10: np.float32(0.28287965), 20: np.float32(1.1635531), 30: np.float32(1.4793732), 40: np.float32(1.7171838), 50: np.float32(1.8973794), 60: np.float32(2.062311), 70: np.float32(2.2398086), 80: np.float32(2.4062467), 90: np.float32(2.6654842), 95: np.float32(2.935817), 99: np.float32(3.5535848)}\n"
     ]
    }
   ],
   "source": [
    "cov_euc, acc_euc, preds_euc, trues_euc = extract_results_automated_splits('embeddings', 'euclidean', 'distance', samples, percentiles)"
   ]
  },
  {
   "cell_type": "code",
   "execution_count": 9,
   "id": "dbd125d4",
   "metadata": {},
   "outputs": [
    {
     "name": "stdout",
     "output_type": "stream",
     "text": [
      "100 {1: {np.int64(0): np.float32(0.0), np.int64(1): np.float32(0.0), np.int64(2): np.float32(0.0), np.int64(3): np.float32(0.29076645), np.int64(4): np.float32(0.0), np.int64(5): np.float32(0.0), np.int64(6): np.float32(0.0), np.int64(7): np.float32(0.0), np.int64(8): np.float32(0.23581912), np.int64(9): np.float32(0.19925705), np.int64(10): np.float32(0.0), np.int64(11): np.float32(0.0), np.int64(12): np.float32(0.00390625), np.int64(13): np.float32(0.0), np.int64(14): np.float32(0.0033829117), np.int64(15): np.float32(0.001953125), np.int64(16): np.float32(0.0), np.int64(17): np.float32(0.0), np.int64(18): np.float32(0.0), np.int64(19): np.float32(0.0)}, 5: {np.int64(0): np.float32(0.001953125), np.int64(1): np.float32(0.0), np.int64(2): np.float32(1.0006521), np.int64(3): np.float32(0.61153716), np.int64(4): np.float32(0.22650357), np.int64(5): np.float32(0.003213767), np.int64(6): np.float32(0.0), np.int64(7): np.float32(0.00478416), np.int64(8): np.float32(0.32349434), np.int64(9): np.float32(1.087294), np.int64(10): np.float32(0.53854567), np.int64(11): np.float32(0.179666), np.int64(12): np.float32(0.18213873), np.int64(13): np.float32(0.17374033), np.int64(14): np.float32(0.61887795), np.int64(15): np.float32(0.3247331), np.int64(16): np.float32(0.0), np.int64(17): np.float32(0.0013810679), np.int64(18): np.float32(0.0), np.int64(19): np.float32(0.00092773465)}, 10: {np.int64(0): np.float32(1.1599267), np.int64(1): np.float32(0.0), np.int64(2): np.float32(1.2200488), np.int64(3): np.float32(0.87276936), np.int64(4): np.float32(0.3771696), np.int64(5): np.float32(1.1965661), np.int64(6): np.float32(0.0), np.int64(7): np.float32(0.42498007), np.int64(8): np.float32(0.9508459), np.int64(9): np.float32(1.3321027), np.int64(10): np.float32(0.9576737), np.int64(11): np.float32(0.3422653), np.int64(12): np.float32(0.9928925), np.int64(13): np.float32(0.85564953), np.int64(14): np.float32(1.1201475), np.int64(15): np.float32(1.3110868), np.int64(16): np.float32(0.18959045), np.int64(17): np.float32(0.36998644), np.int64(18): np.float32(0.0032399339), np.int64(19): np.float32(0.66515124)}, 20: {np.int64(0): np.float32(1.5555849), np.int64(1): np.float32(0.001953125), np.int64(2): np.float32(1.5758518), np.int64(3): np.float32(1.2425727), np.int64(4): np.float32(0.8795171), np.int64(5): np.float32(1.4998194), np.int64(6): np.float32(0.001953125), np.int64(7): np.float32(1.2851748), np.int64(8): np.float32(1.6257845), np.int64(9): np.float32(1.6177136), np.int64(10): np.float32(1.4275353), np.int64(11): np.float32(1.2055545), np.int64(12): np.float32(1.2607468), np.int64(13): np.float32(1.3683567), np.int64(14): np.float32(1.713817), np.int64(15): np.float32(1.4971445), np.int64(16): np.float32(0.26081067), np.int64(17): np.float32(1.3370236), np.int64(18): np.float32(0.63017064), np.int64(19): np.float32(1.0309364)}, 30: {np.int64(0): np.float32(1.7382238), np.int64(1): np.float32(0.001953125), np.int64(2): np.float32(1.6552639), np.int64(3): np.float32(1.6008815), np.int64(4): np.float32(1.1670302), np.int64(5): np.float32(1.8502321), np.int64(6): np.float32(0.0033829117), np.int64(7): np.float32(1.5956398), np.int64(8): np.float32(1.8333322), np.int64(9): np.float32(1.7745868), np.int64(10): np.float32(1.7168735), np.int64(11): np.float32(1.6725172), np.int64(12): np.float32(1.446857), np.int64(13): np.float32(1.6257839), np.int64(14): np.float32(1.8481652), np.int64(15): np.float32(1.7069722), np.int64(16): np.float32(0.9737067), np.int64(17): np.float32(1.4869039), np.int64(18): np.float32(1.015592), np.int64(19): np.float32(1.2501028)}, 40: {np.int64(0): np.float32(1.892026), np.int64(1): np.float32(0.17771995), np.int64(2): np.float32(1.7892786), np.int64(3): np.float32(1.8568324), np.int64(4): np.float32(1.3692398), np.int64(5): np.float32(1.965247), np.int64(6): np.float32(0.3646124), np.int64(7): np.float32(1.7233559), np.int64(8): np.float32(1.9351704), np.int64(9): np.float32(1.9487073), np.int64(10): np.float32(1.9781404), np.int64(11): np.float32(1.9909538), np.int64(12): np.float32(1.5535), np.int64(13): np.float32(1.7542062), np.int64(14): np.float32(2.0538194), np.int64(15): np.float32(1.8472843), np.int64(16): np.float32(1.3914853), np.int64(17): np.float32(1.5986688), np.int64(18): np.float32(1.27811), np.int64(19): np.float32(1.463099)}, 50: {np.int64(0): np.float32(2.034456), np.int64(1): np.float32(1.3047489), np.int64(2): np.float32(2.0498612), np.int64(3): np.float32(2.0372348), np.int64(4): np.float32(1.6370888), np.int64(5): np.float32(2.0635018), np.int64(6): np.float32(1.1360112), np.int64(7): np.float32(2.007233), np.int64(8): np.float32(2.061256), np.int64(9): np.float32(2.0423875), np.int64(10): np.float32(2.060729), np.int64(11): np.float32(2.1952767), np.int64(12): np.float32(1.7823429), np.int64(13): np.float32(1.870483), np.int64(14): np.float32(2.2287617), np.int64(15): np.float32(1.9197047), np.int64(16): np.float32(1.5719377), np.int64(17): np.float32(1.8057457), np.int64(18): np.float32(1.6776279), np.int64(19): np.float32(1.5745894)}, 60: {np.int64(0): np.float32(2.2811966), np.int64(1): np.float32(1.6845654), np.int64(2): np.float32(2.2683582), np.int64(3): np.float32(2.1731727), np.int64(4): np.float32(1.9064022), np.int64(5): np.float32(2.1608171), np.int64(6): np.float32(1.2788558), np.int64(7): np.float32(2.1898928), np.int64(8): np.float32(2.1771114), np.int64(9): np.float32(2.167032), np.int64(10): np.float32(2.1413875), np.int64(11): np.float32(2.2666838), np.int64(12): np.float32(1.920647), np.int64(13): np.float32(1.9833798), np.int64(14): np.float32(2.3170962), np.int64(15): np.float32(2.1200588), np.int64(16): np.float32(1.8499273), np.int64(17): np.float32(1.9189595), np.int64(18): np.float32(2.0578477), np.int64(19): np.float32(1.768802)}, 70: {np.int64(0): np.float32(2.3695247), np.int64(1): np.float32(2.023218), np.int64(2): np.float32(2.3955665), np.int64(3): np.float32(2.332258), np.int64(4): np.float32(2.1617677), np.int64(5): np.float32(2.2899683), np.int64(6): np.float32(1.3924893), np.int64(7): np.float32(2.3055203), np.int64(8): np.float32(2.3340766), np.int64(9): np.float32(2.3410642), np.int64(10): np.float32(2.3067937), np.int64(11): np.float32(2.3588302), np.int64(12): np.float32(2.0439746), np.int64(13): np.float32(2.089779), np.int64(14): np.float32(2.5010953), np.int64(15): np.float32(2.2773705), np.int64(16): np.float32(2.013245), np.int64(17): np.float32(2.0652416), np.int64(18): np.float32(2.1941054), np.int64(19): np.float32(1.8669047)}, 80: {np.int64(0): np.float32(2.4292126), np.int64(1): np.float32(2.1431448), np.int64(2): np.float32(2.6056762), np.int64(3): np.float32(2.438893), np.int64(4): np.float32(2.326891), np.int64(5): np.float32(2.4282823), np.int64(6): np.float32(1.814157), np.int64(7): np.float32(2.3842416), np.int64(8): np.float32(2.4846807), np.int64(9): np.float32(2.488927), np.int64(10): np.float32(2.4891014), np.int64(11): np.float32(2.4465425), np.int64(12): np.float32(2.5635524), np.int64(13): np.float32(2.3211434), np.int64(14): np.float32(2.682187), np.int64(15): np.float32(2.4304729), np.int64(16): np.float32(2.3497531), np.int64(17): np.float32(2.2478216), np.int64(18): np.float32(2.3192258), np.int64(19): np.float32(2.041508)}, 90: {np.int64(0): np.float32(2.6206372), np.int64(1): np.float32(2.5612216), np.int64(2): np.float32(3.0173619), np.int64(3): np.float32(2.5751066), np.int64(4): np.float32(2.7061417), np.int64(5): np.float32(2.6333623), np.int64(6): np.float32(2.343746), np.int64(7): np.float32(2.6138217), np.int64(8): np.float32(2.8266718), np.int64(9): np.float32(2.7133248), np.int64(10): np.float32(2.8119519), np.int64(11): np.float32(2.6540043), np.int64(12): np.float32(2.7462468), np.int64(13): np.float32(2.4685872), np.int64(14): np.float32(2.9911554), np.int64(15): np.float32(2.5853686), np.int64(16): np.float32(2.7605941), np.int64(17): np.float32(2.3942482), np.int64(18): np.float32(2.5433574), np.int64(19): np.float32(2.3040087)}, 95: {np.int64(0): np.float32(2.8608224), np.int64(1): np.float32(2.7693706), np.int64(2): np.float32(3.183007), np.int64(3): np.float32(2.9042206), np.int64(4): np.float32(2.8927567), np.int64(5): np.float32(3.0088518), np.int64(6): np.float32(2.5052867), np.int64(7): np.float32(2.8569813), np.int64(8): np.float32(2.9055967), np.int64(9): np.float32(2.871689), np.int64(10): np.float32(2.9660532), np.int64(11): np.float32(2.8096068), np.int64(12): np.float32(3.6196249), np.int64(13): np.float32(2.8925462), np.int64(14): np.float32(3.2382693), np.int64(15): np.float32(2.7394822), np.int64(16): np.float32(2.9731057), np.int64(17): np.float32(2.4919145), np.int64(18): np.float32(2.6424608), np.int64(19): np.float32(2.3609712)}, 99: {np.int64(0): np.float32(3.1224093), np.int64(1): np.float32(3.5881112), np.int64(2): np.float32(3.6404688), np.int64(3): np.float32(3.1128647), np.int64(4): np.float32(3.3119268), np.int64(5): np.float32(3.1433868), np.int64(6): np.float32(3.634258), np.int64(7): np.float32(3.0236177), np.int64(8): np.float32(3.8170798), np.int64(9): np.float32(3.038776), np.int64(10): np.float32(3.247316), np.int64(11): np.float32(3.0116305), np.int64(12): np.float32(4.217532), np.int64(13): np.float32(3.3812668), np.int64(14): np.float32(3.6380668), np.int64(15): np.float32(2.910855), np.int64(16): np.float32(3.340912), np.int64(17): np.float32(3.1367166), np.int64(18): np.float32(3.5335476), np.int64(19): np.float32(2.9763305)}}\n"
     ]
    }
   ],
   "source": [
    "cov_euc_pc, acc_euc_pc, miss_euc_pc, preds_euc_pc, trues_euc_pc = extract_results_automated_per_class_splits_avg('embeddings', 'euclidean', 'distance', samples, percentiles)"
   ]
  },
  {
   "cell_type": "code",
   "execution_count": 10,
   "id": "55007478",
   "metadata": {},
   "outputs": [
    {
     "data": {
      "text/plain": [
       "{100: {1: [np.float64(86.72907488986785)],\n",
       "  5: [np.float64(87.6073161627473)],\n",
       "  10: [np.float64(85.56900102986612)],\n",
       "  20: [np.float64(81.66005291005291)],\n",
       "  30: [np.float64(77.40520213099342)],\n",
       "  40: [np.float64(73.22778345250255)],\n",
       "  50: [np.float64(70.63045751264589)],\n",
       "  60: [np.float64(69.00142549952886)],\n",
       "  70: [np.float64(67.88236289060848)],\n",
       "  80: [np.float64(67.49605814713688)],\n",
       "  90: [np.float64(67.2597054651794)],\n",
       "  95: [np.float64(67.24642528639518)],\n",
       "  99: [np.float64(67.29368342668437)]}}"
      ]
     },
     "execution_count": 10,
     "metadata": {},
     "output_type": "execute_result"
    }
   ],
   "source": [
    "acc_euc"
   ]
  },
  {
   "cell_type": "code",
   "execution_count": 18,
   "id": "bcc4e69f",
   "metadata": {},
   "outputs": [
    {
     "data": {
      "text/plain": [
       "[np.float64(67.41468386461884)]"
      ]
     },
     "execution_count": 18,
     "metadata": {},
     "output_type": "execute_result"
    }
   ],
   "source": [
    "acc_euc_pc[90][100][-1]"
   ]
  }
 ],
 "metadata": {
  "kernelspec": {
   "display_name": "base",
   "language": "python",
   "name": "python3"
  },
  "language_info": {
   "codemirror_mode": {
    "name": "ipython",
    "version": 3
   },
   "file_extension": ".py",
   "mimetype": "text/x-python",
   "name": "python",
   "nbconvert_exporter": "python",
   "pygments_lexer": "ipython3",
   "version": "3.12.2"
  }
 },
 "nbformat": 4,
 "nbformat_minor": 5
}
