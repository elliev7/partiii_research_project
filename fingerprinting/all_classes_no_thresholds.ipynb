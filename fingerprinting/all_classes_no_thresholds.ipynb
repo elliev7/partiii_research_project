{
 "cells": [
  {
   "cell_type": "code",
   "execution_count": null,
   "id": "9c548bae",
   "metadata": {},
   "outputs": [],
   "source": [
    "import numpy as np\n",
    "from scipy import stats\n",
    "from functions import extract_results_splits"
   ]
  },
  {
   "cell_type": "code",
   "execution_count": 2,
   "id": "d186d7de",
   "metadata": {},
   "outputs": [],
   "source": [
    "samples = [10, 100, 1000, None]"
   ]
  },
  {
   "cell_type": "code",
   "execution_count": 3,
   "id": "2d5198d0",
   "metadata": {},
   "outputs": [],
   "source": [
    "coverage_results_baseline_splits, accuracy_results_baseline_splits = extract_results_splits('baseline', 'euclidean', 'distance', samples, [None])\n",
    "coverage_results_embeddings_splits, accuracy_results_embeddings_splits = extract_results_splits('embeddings', 'euclidean', 'distance', samples, [None])\n",
    "coverage_results_embeddings_cosine_splits, accuracy_results_embeddings_cosine_splits = extract_results_splits('embeddings', 'cosine', 'similarity', samples, [None])"
   ]
  },
  {
   "cell_type": "code",
   "execution_count": 4,
   "id": "baaf9150",
   "metadata": {},
   "outputs": [],
   "source": [
    "def mean_confidence_interval(data, confidence=0.95):\n",
    "    a = np.array(data)\n",
    "    n = len(a)\n",
    "    m = np.mean(a)\n",
    "    se = stats.sem(a)\n",
    "    h = se * stats.t.ppf((1 + confidence) / 2., n-1)\n",
    "    return m, m-h, m+h"
   ]
  },
  {
   "cell_type": "code",
   "execution_count": 5,
   "id": "902ff25c",
   "metadata": {},
   "outputs": [
    {
     "name": "stdout",
     "output_type": "stream",
     "text": [
      "Sample 10: 25.0225 ± 0.4341 (95% CI)\n",
      "Sample 100: 40.4650 ± 0.1583 (95% CI)\n",
      "Sample 1000: 56.8828 ± 0.0585 (95% CI)\n",
      "Sample None: 63.4805 ± 0.1461 (95% CI)\n"
     ]
    }
   ],
   "source": [
    "for k in [10, 100, 1000, None]:\n",
    "    values = accuracy_results_baseline_splits[k][None]\n",
    "    mean, lower, upper = mean_confidence_interval(values)\n",
    "    error = upper - mean\n",
    "    print(f\"Sample {k}: {mean:.4f} ± {error:.4f} (95% CI)\")"
   ]
  },
  {
   "cell_type": "code",
   "execution_count": 6,
   "id": "34921016",
   "metadata": {},
   "outputs": [
    {
     "name": "stdout",
     "output_type": "stream",
     "text": [
      "Sample 10: 55.8237 ± 0.4354 (95% CI)\n",
      "Sample 100: 66.8568 ± 0.1262 (95% CI)\n",
      "Sample 1000: 76.1424 ± 0.0596 (95% CI)\n",
      "Sample None: 78.6002 ± 0.1354 (95% CI)\n"
     ]
    }
   ],
   "source": [
    "for k in [10, 100, 1000, None]:\n",
    "    values = accuracy_results_embeddings_splits[k][None]\n",
    "    mean, lower, upper = mean_confidence_interval(values)\n",
    "    error = upper - mean\n",
    "    print(f\"Sample {k}: {mean:.4f} ± {error:.4f} (95% CI)\")"
   ]
  },
  {
   "cell_type": "code",
   "execution_count": 7,
   "id": "54b2d385",
   "metadata": {},
   "outputs": [
    {
     "name": "stdout",
     "output_type": "stream",
     "text": [
      "Sample 10: 61.9974 ± 0.4222 (95% CI)\n",
      "Sample 100: 70.0499 ± 0.1131 (95% CI)\n",
      "Sample 1000: 77.6609 ± 0.0542 (95% CI)\n",
      "Sample None: 79.5773 ± 0.1379 (95% CI)\n"
     ]
    }
   ],
   "source": [
    "for k in [10, 100, 1000, None]:\n",
    "    values = accuracy_results_embeddings_cosine_splits[k][None]\n",
    "    mean, lower, upper = mean_confidence_interval(values)\n",
    "    error = upper - mean\n",
    "    print(f\"Sample {k}: {mean:.4f} ± {error:.4f} (95% CI)\")"
   ]
  },
  {
   "cell_type": "code",
   "execution_count": null,
   "id": "0b32b7ac",
   "metadata": {},
   "outputs": [],
   "source": []
  }
 ],
 "metadata": {
  "kernelspec": {
   "display_name": "tcbench",
   "language": "python",
   "name": "python3"
  },
  "language_info": {
   "codemirror_mode": {
    "name": "ipython",
    "version": 3
   },
   "file_extension": ".py",
   "mimetype": "text/x-python",
   "name": "python",
   "nbconvert_exporter": "python",
   "pygments_lexer": "ipython3",
   "version": "3.10.16"
  }
 },
 "nbformat": 4,
 "nbformat_minor": 5
}
