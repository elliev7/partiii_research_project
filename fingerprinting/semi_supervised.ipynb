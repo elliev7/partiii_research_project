{
 "cells": [
  {
   "cell_type": "code",
   "execution_count": 1,
   "id": "5eede903",
   "metadata": {},
   "outputs": [],
   "source": [
    "from functions import (run_multiple_avg,\n",
    "                       run_multiple_per_class_avg,\n",
    "                       plot_all_classes_by_batch,\n",
    "                       plot_per_class_by_batch)"
   ]
  },
  {
   "cell_type": "markdown",
   "id": "ee6063da",
   "metadata": {},
   "source": [
    "ONE THRESHOLD FOR ALL CLASSES"
   ]
  },
  {
   "cell_type": "code",
   "execution_count": 17,
   "id": "2f89a44a",
   "metadata": {},
   "outputs": [
    {
     "name": "stdout",
     "output_type": "stream",
     "text": [
      "Average accuracy first batch: 40.7421875\n",
      "Average accuracy last batch: 39.91803278688524\n",
      "Started with 2000 training points and ended with 2108\n",
      "Percentage of correct training points last batch: 99.43\n"
     ]
    }
   ],
   "source": [
    "#baseline thresholds 10 and 100\n",
    "coverage_baseline, accuracy_baseline, train_baseline, cor_train_baseline = run_multiple_avg('baseline', 'euclidean', 'distance', 100, 10, 100, 10)\n",
    "print(f\"Average accuracy first batch: {accuracy_baseline[0]}\")\n",
    "print(f\"Average accuracy last batch: {accuracy_baseline[-1]}\")\n",
    "print(f\"Started with {train_baseline[0]} training points and ended with {train_baseline[-1]}\")\n",
    "print(f\"Percentage of correct training points last batch: {cor_train_baseline[-1]/train_baseline[-1]*100:.2f}\")"
   ]
  },
  {
   "cell_type": "code",
   "execution_count": null,
   "id": "ab02be6a",
   "metadata": {},
   "outputs": [
    {
     "name": "stdout",
     "output_type": "stream",
     "text": [
      "Average accuracy first batch: 40.7421875\n",
      "Average accuracy last batch: 39.959016393442624\n",
      "Started with 2000 training points and ended with 2952\n",
      "Percentage of correct training points last batch: 90.62\n"
     ]
    }
   ],
   "source": [
    "#baseline thresholds 20 and 100\n",
    "coverage_baseline, accuracy_baseline, train_baseline, cor_train_baseline = run_multiple_avg('baseline', 'euclidean', 'distance', 100, 20, 100, 10)\n",
    "print(f\"Average accuracy first batch: {accuracy_baseline[0]}\")\n",
    "print(f\"Average accuracy last batch: {accuracy_baseline[-1]}\")\n",
    "print(f\"Started with {train_baseline[0]} training points and ended with {train_baseline[-1]}\")\n",
    "print(f\"Percentage of correct training points last batch: {cor_train_baseline[-1]/train_baseline[-1]*100:.2f}\")"
   ]
  },
  {
   "cell_type": "code",
   "execution_count": null,
   "id": "421da5d5",
   "metadata": {},
   "outputs": [
    {
     "name": "stdout",
     "output_type": "stream",
     "text": [
      "Accuracy first batch: 66.66687126319735\n",
      "Accuracy last batch: 66.4711675749217\n",
      "Started with 2000 training points and ended with 2423\n",
      "Percentage of correct training points last batch: 92.74\n"
     ]
    }
   ],
   "source": [
    "#embeddings thresholds 10 and 100\n",
    "coverage_embeddings, accuracy_embeddings, train_embeddings, cor_train_embeddings = run_multiple_avg('embeddings', 'euclidean', 'distance', 100, 10, 100, 10)\n",
    "print(f\"Accuracy first batch: {accuracy_embeddings[0]}\")\n",
    "print(f\"Accuracy last batch: {accuracy_embeddings[-1]}\")\n",
    "print(f\"Started with {train_embeddings[0]} training points and ended with {train_embeddings[-1]}\")\n",
    "print(f\"Percentage of correct training points last batch: {cor_train_embeddings[-1]/train_embeddings[-1]*100:.2f}\")"
   ]
  },
  {
   "cell_type": "code",
   "execution_count": null,
   "id": "c2c9bb4a",
   "metadata": {},
   "outputs": [
    {
     "name": "stdout",
     "output_type": "stream",
     "text": [
      "Accuracy first batch: 66.66687126319735\n",
      "Accuracy last batch: 66.53947358585066\n",
      "Started with 2000 training points and ended with 3278\n",
      "Percentage of correct training points last batch: 89.23\n"
     ]
    }
   ],
   "source": [
    "#embeddings thresholds 20 and 100\n",
    "coverage_embeddings, accuracy_embeddings, train_embeddings, cor_train_embeddings = run_multiple_avg('embeddings', 'euclidean', 'distance', 100, 20, 100, 10)\n",
    "print(f\"Accuracy first batch: {accuracy_embeddings[0]}\")\n",
    "print(f\"Accuracy last batch: {accuracy_embeddings[-1]}\")\n",
    "print(f\"Started with {train_embeddings[0]} training points and ended with {train_embeddings[-1]}\")\n",
    "print(f\"Percentage of correct training points last batch: {cor_train_embeddings[-1]/train_embeddings[-1]*100:.2f}\")"
   ]
  },
  {
   "cell_type": "code",
   "execution_count": null,
   "id": "7c67f52f",
   "metadata": {},
   "outputs": [
    {
     "name": "stdout",
     "output_type": "stream",
     "text": [
      "Accuracy first batch: 70.146484375\n",
      "Accuracy last batch: 69.43989071038251\n",
      "Started with 2000 training points and ended with 2127\n",
      "Percentage of correct training points last batch: 99.48\n"
     ]
    }
   ],
   "source": [
    "#embeddings cosine thresholds 10 and 100\n",
    "coverage_embeddings_cosine, accuracy_embeddings_cosine, train_embeddings_cosine, cor_train_embeddings_cosine = run_multiple_avg('embeddings', 'cosine', 'similarity', 100, 10, 100, 10)\n",
    "print(f\"Accuracy first batch: {accuracy_embeddings_cosine[0]}\")\n",
    "print(f\"Accuracy last batch: {accuracy_embeddings_cosine[-1]}\")\n",
    "print(f\"Started with {train_embeddings_cosine[0]} training points and ended with {train_embeddings_cosine[-1]}\")\n",
    "print(f\"Percentage of correct training points last batch: {cor_train_embeddings_cosine[-1]/train_embeddings_cosine[-1]*100:.2f}\")"
   ]
  },
  {
   "cell_type": "code",
   "execution_count": null,
   "id": "a632df4a",
   "metadata": {},
   "outputs": [
    {
     "name": "stdout",
     "output_type": "stream",
     "text": [
      "Accuracy first batch: 70.146484375\n",
      "Accuracy last batch: 69.60382513661202\n",
      "Started with 2000 training points and ended with 2789\n",
      "Percentage of correct training points last batch: 96.67\n"
     ]
    }
   ],
   "source": [
    "#embeddings cosine thresholds 20 and 100 \n",
    "coverage_embeddings_cosine, accuracy_embeddings_cosine, train_embeddings_cosine, cor_train_embeddings_cosine = run_multiple_avg('embeddings', 'cosine', 'similarity', 100, 20, 100, 10)\n",
    "print(f\"Accuracy first batch: {accuracy_embeddings_cosine[0]}\")\n",
    "print(f\"Accuracy last batch: {accuracy_embeddings_cosine[-1]}\")\n",
    "print(f\"Started with {train_embeddings_cosine[0]} training points and ended with {train_embeddings_cosine[-1]}\")\n",
    "print(f\"Percentage of correct training points last batch: {cor_train_embeddings_cosine[-1]/train_embeddings_cosine[-1]*100:.2f}\")"
   ]
  },
  {
   "cell_type": "markdown",
   "id": "d83a5359",
   "metadata": {},
   "source": [
    "PER CLASS THRESHOLDS"
   ]
  },
  {
   "cell_type": "code",
   "execution_count": 2,
   "id": "c48f98ee",
   "metadata": {},
   "outputs": [
    {
     "name": "stdout",
     "output_type": "stream",
     "text": [
      "Accuracy first batch: 43.06640625\n",
      "Accuracy last batch: 38.9344262295082\n",
      "Started with 2000 training points and ended with 3029\n",
      "Percentage of correct training points last batch: 83.89\n"
     ]
    }
   ],
   "source": [
    "#baseline thresholds 1 and 100\n",
    "coverage_per_class_baseline, accuracy_per_class_baseline, train_per_class_baseline, cor_train_per_class_baseline = run_multiple_per_class_avg('baseline', 'euclidean', 'distance', 100, 1, 100, 1)\n",
    "print(\"Accuracy first batch:\", accuracy_per_class_baseline[-1][0])\n",
    "print(\"Accuracy last batch:\", accuracy_per_class_baseline[-1][-1])\n",
    "print(f\"Started with {train_per_class_baseline[0]} training points and ended with {train_per_class_baseline[-1]}\")\n",
    "print(f\"Percentage of correct training points last batch: {cor_train_per_class_baseline[-1]/train_per_class_baseline[-1]*100:.2f}\")"
   ]
  },
  {
   "cell_type": "code",
   "execution_count": 3,
   "id": "ece23b43",
   "metadata": {},
   "outputs": [
    {
     "name": "stdout",
     "output_type": "stream",
     "text": [
      "Accuracy first batch: 40.69721396393969\n",
      "Accuracy last batch: 39.25813315523568\n",
      "Started with 2000 training points and ended with 14349\n",
      "Percentage of correct training points last batch: 41.06\n"
     ]
    }
   ],
   "source": [
    "#baseline thresholds 10 and 100\n",
    "coverage_per_class_baseline, accuracy_per_class_baseline, train_per_class_baseline, cor_train_per_class_baseline = run_multiple_per_class_avg('baseline', 'euclidean', 'distance', 100, 10, 100, 10)\n",
    "print(\"Accuracy first batch:\", accuracy_per_class_baseline[-1][0])\n",
    "print(\"Accuracy last batch:\", accuracy_per_class_baseline[-1][-1])\n",
    "print(f\"Started with {train_per_class_baseline[0]} training points and ended with {train_per_class_baseline[-1]}\")\n",
    "print(f\"Percentage of correct training points last batch: {cor_train_per_class_baseline[-1]/train_per_class_baseline[-1]*100:.2f}\")"
   ]
  },
  {
   "cell_type": "code",
   "execution_count": 4,
   "id": "6c8c5d30",
   "metadata": {},
   "outputs": [
    {
     "name": "stdout",
     "output_type": "stream",
     "text": [
      "Accuracy first batch: 66.24677605289087\n",
      "Accuracy last batch: 66.20415984335753\n",
      "Started with 2000 training points and ended with 2510\n",
      "Percentage of correct training points last batch: 92.51\n"
     ]
    }
   ],
   "source": [
    "#embeddings thresholds 1 and 100\n",
    "coverage_per_class_embeddings, accuracy_per_class_embeddings, train_per_class_embeddings, cor_train_per_class_embeddings = run_multiple_per_class_avg('embeddings', 'euclidean', 'distance', 100, 1, 100, 10)\n",
    "print(\"Accuracy first batch:\", accuracy_per_class_embeddings[-1][0])\n",
    "print(\"Accuracy last batch:\", accuracy_per_class_embeddings[-1][-1])\n",
    "print(f\"Started with {train_per_class_embeddings[0]} training points and ended with {train_per_class_embeddings[-1]}\")\n",
    "print(f\"Percentage of correct training points last batch: {cor_train_per_class_embeddings[-1]/train_per_class_embeddings[-1]*100:.2f}\")"
   ]
  },
  {
   "cell_type": "code",
   "execution_count": 5,
   "id": "c02d2563",
   "metadata": {},
   "outputs": [
    {
     "name": "stdout",
     "output_type": "stream",
     "text": [
      "Accuracy first batch: 66.24677605289087\n",
      "Accuracy last batch: 63.6136947472187\n",
      "Started with 2000 training points and ended with 10940\n",
      "Percentage of correct training points last batch: 63.42\n"
     ]
    }
   ],
   "source": [
    "#embeddings thresholds 10 and 100\n",
    "coverage_per_class_embeddings, accuracy_per_class_embeddings, train_per_class_embeddings, cor_train_per_class_embeddings = run_multiple_per_class_avg('embeddings', 'euclidean', 'distance', 100, 10, 100, 10)\n",
    "print(\"Accuracy first batch:\", accuracy_per_class_embeddings[-1][0])\n",
    "print(\"Accuracy last batch:\", accuracy_per_class_embeddings[-1][-1])\n",
    "print(f\"Started with {train_per_class_embeddings[0]} training points and ended with {train_per_class_embeddings[-1]}\")\n",
    "print(f\"Percentage of correct training points last batch: {cor_train_per_class_embeddings[-1]/train_per_class_embeddings[-1]*100:.2f}\")"
   ]
  },
  {
   "cell_type": "code",
   "execution_count": 6,
   "id": "31ad8cfa",
   "metadata": {},
   "outputs": [
    {
     "name": "stdout",
     "output_type": "stream",
     "text": [
      "Accuracy first batch: 70.15072697529354\n",
      "Accuracy last batch: 69.46721311475412\n",
      "Started with 2000 training points and ended with 2136\n",
      "Percentage of correct training points last batch: 99.02\n"
     ]
    }
   ],
   "source": [
    "#embeddings cosine thresholds 1 and 100\n",
    "coverage_per_class_embeddings_cosine, accuracy_per_class_embeddings_cosine, train_per_class_embeddings_cosine, cor_train_per_class_embeddings_cosine = run_multiple_per_class_avg('embeddings', 'cosine', 'similarity', 100, 1, 100, 10)\n",
    "print(\"Accuracy first batch:\", accuracy_per_class_embeddings_cosine[-1][0])\n",
    "print(\"Accuracy last batch:\", accuracy_per_class_embeddings_cosine[-1][-1])\n",
    "print(f\"Started with {train_per_class_embeddings[0]} training points and ended with {train_per_class_embeddings_cosine[-1]}\")\n",
    "print(f\"Percentage of correct training points last batch: {cor_train_per_class_embeddings_cosine[-1]/train_per_class_embeddings_cosine[-1]*100:.2f}\")"
   ]
  },
  {
   "cell_type": "code",
   "execution_count": 7,
   "id": "eacd510b",
   "metadata": {},
   "outputs": [
    {
     "name": "stdout",
     "output_type": "stream",
     "text": [
      "Accuracy first batch: 70.15072697529354\n",
      "Accuracy last batch: 68.5655737704918\n",
      "Started with 2000 training points and ended with 7015\n",
      "Percentage of correct training points last batch: 87.64\n"
     ]
    }
   ],
   "source": [
    "#embeddings cosine thresholds 10 and 100\n",
    "coverage_per_class_embeddings_cosine, accuracy_per_class_embeddings_cosine, train_per_class_embeddings_cosine, cor_train_per_class_embeddings_cosine = run_multiple_per_class_avg('embeddings', 'cosine', 'similarity', 100, 10, 100, 10)\n",
    "print(\"Accuracy first batch:\", accuracy_per_class_embeddings_cosine[-1][0])\n",
    "print(\"Accuracy last batch:\", accuracy_per_class_embeddings_cosine[-1][-1])\n",
    "print(f\"Started with {train_per_class_embeddings[0]} training points and ended with {train_per_class_embeddings_cosine[-1]}\")\n",
    "print(f\"Percentage of correct training points last batch: {cor_train_per_class_embeddings_cosine[-1]/train_per_class_embeddings_cosine[-1]*100:.2f}\")"
   ]
  },
  {
   "cell_type": "code",
   "execution_count": null,
   "id": "0f421cd2",
   "metadata": {},
   "outputs": [],
   "source": []
  }
 ],
 "metadata": {
  "kernelspec": {
   "display_name": "tcbench",
   "language": "python",
   "name": "python3"
  },
  "language_info": {
   "codemirror_mode": {
    "name": "ipython",
    "version": 3
   },
   "file_extension": ".py",
   "mimetype": "text/x-python",
   "name": "python",
   "nbconvert_exporter": "python",
   "pygments_lexer": "ipython3",
   "version": "3.10.16"
  }
 },
 "nbformat": 4,
 "nbformat_minor": 5
}
