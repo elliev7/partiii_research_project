{
 "cells": [
  {
   "cell_type": "code",
   "execution_count": 1,
   "id": "5eede903",
   "metadata": {},
   "outputs": [],
   "source": [
    "from functions import (run_multiple_avg,\n",
    "                       run_multiple_per_class_avg,\n",
    "                       plot_all_classes_by_batch,\n",
    "                       plot_per_class_by_batch)"
   ]
  },
  {
   "cell_type": "markdown",
   "id": "ee6063da",
   "metadata": {},
   "source": [
    "ONE THRESHOLD FOR ALL CLASSES"
   ]
  },
  {
   "cell_type": "code",
   "execution_count": 14,
   "id": "421da5d5",
   "metadata": {},
   "outputs": [
    {
     "name": "stdout",
     "output_type": "stream",
     "text": [
      "Accuracy first batch: 66.66687126319735\n",
      "Accuracy last batch: 66.4711675749217\n",
      "Started with 2000 training points and ended with 2383\n",
      "Percentage of correct NEW training points last batch: 55.87\n"
     ]
    }
   ],
   "source": [
    "#embeddings thresholds 10 and 100\n",
    "coverage_embeddings, accuracy_embeddings, train_embeddings, cor_train_embeddings = run_multiple_avg('embeddings', 'euclidean', 'distance', 100, 10, 100, 10)\n",
    "print(f\"Accuracy first batch: {accuracy_embeddings[0]}\")\n",
    "print(f\"Accuracy last batch: {accuracy_embeddings[-1]}\")\n",
    "print(f\"Started with {train_embeddings[0]} training points and ended with {train_embeddings[-1]}\")\n",
    "cor_new_train_embeddings = (cor_train_embeddings[-1] - train_embeddings[0]) / (train_embeddings[-1] - train_embeddings[0]) * 100\n",
    "print(f\"Percentage of correct NEW training points last batch: {cor_new_train_embeddings:.2f}\")"
   ]
  },
  {
   "cell_type": "code",
   "execution_count": 15,
   "id": "c2c9bb4a",
   "metadata": {},
   "outputs": [
    {
     "name": "stdout",
     "output_type": "stream",
     "text": [
      "Accuracy first batch: 66.66687126319735\n",
      "Accuracy last batch: 66.53947358585066\n",
      "Started with 2000 training points and ended with 3114\n",
      "Percentage of correct NEW training points last batch: 73.70\n"
     ]
    }
   ],
   "source": [
    "#embeddings thresholds 20 and 100\n",
    "coverage_embeddings, accuracy_embeddings, train_embeddings, cor_train_embeddings = run_multiple_avg('embeddings', 'euclidean', 'distance', 100, 20, 100, 10)\n",
    "print(f\"Accuracy first batch: {accuracy_embeddings[0]}\")\n",
    "print(f\"Accuracy last batch: {accuracy_embeddings[-1]}\")\n",
    "print(f\"Started with {train_embeddings[0]} training points and ended with {train_embeddings[-1]}\")\n",
    "cor_new_train_embeddings = (cor_train_embeddings[-1] - train_embeddings[0]) / (train_embeddings[-1] - train_embeddings[0]) * 100\n",
    "print(f\"Percentage of correct NEW training points last batch: {cor_new_train_embeddings:.2f}\")"
   ]
  },
  {
   "cell_type": "code",
   "execution_count": 16,
   "id": "7c67f52f",
   "metadata": {},
   "outputs": [
    {
     "name": "stdout",
     "output_type": "stream",
     "text": [
      "Accuracy first batch: 70.146484375\n",
      "Accuracy last batch: 69.43989071038251\n",
      "Started with 2000 training points and ended with 2116\n",
      "Percentage of correct NEW training points last batch: 89.66\n"
     ]
    }
   ],
   "source": [
    "#embeddings cosine thresholds 10 and 100\n",
    "coverage_embeddings_cosine, accuracy_embeddings_cosine, train_embeddings_cosine, cor_train_embeddings_cosine = run_multiple_avg('embeddings', 'cosine', 'similarity', 100, 10, 100, 10)\n",
    "print(f\"Accuracy first batch: {accuracy_embeddings_cosine[0]}\")\n",
    "print(f\"Accuracy last batch: {accuracy_embeddings_cosine[-1]}\")\n",
    "print(f\"Started with {train_embeddings_cosine[0]} training points and ended with {train_embeddings_cosine[-1]}\")\n",
    "cor_new_train_embeddings_cosine = (cor_train_embeddings_cosine[-1] - train_embeddings_cosine[0]) / (train_embeddings_cosine[-1] - train_embeddings_cosine[0]) * 100\n",
    "print(f\"Percentage of correct NEW training points last batch: {cor_new_train_embeddings_cosine:.2f}\")"
   ]
  },
  {
   "cell_type": "code",
   "execution_count": 17,
   "id": "a632df4a",
   "metadata": {},
   "outputs": [
    {
     "name": "stdout",
     "output_type": "stream",
     "text": [
      "Accuracy first batch: 70.146484375\n",
      "Accuracy last batch: 69.57650273224044\n",
      "Started with 2000 training points and ended with 2616\n",
      "Percentage of correct NEW training points last batch: 85.71\n"
     ]
    }
   ],
   "source": [
    "#embeddings cosine thresholds 20 and 100 \n",
    "coverage_embeddings_cosine, accuracy_embeddings_cosine, train_embeddings_cosine, cor_train_embeddings_cosine = run_multiple_avg('embeddings', 'cosine', 'similarity', 100, 20, 100, 10)\n",
    "print(f\"Accuracy first batch: {accuracy_embeddings_cosine[0]}\")\n",
    "print(f\"Accuracy last batch: {accuracy_embeddings_cosine[-1]}\")\n",
    "print(f\"Started with {train_embeddings_cosine[0]} training points and ended with {train_embeddings_cosine[-1]}\")\n",
    "cor_new_train_embeddings_cosine = (cor_train_embeddings_cosine[-1] - train_embeddings_cosine[0]) / (train_embeddings_cosine[-1] - train_embeddings_cosine[0]) * 100\n",
    "print(f\"Percentage of correct NEW training points last batch: {cor_new_train_embeddings_cosine:.2f}\")"
   ]
  },
  {
   "cell_type": "markdown",
   "id": "d83a5359",
   "metadata": {},
   "source": [
    "PER CLASS THRESHOLDS"
   ]
  },
  {
   "cell_type": "code",
   "execution_count": 18,
   "id": "6c8c5d30",
   "metadata": {},
   "outputs": [
    {
     "name": "stdout",
     "output_type": "stream",
     "text": [
      "Accuracy first batch: 66.24677605289087\n",
      "Accuracy last batch: 66.16293205381325\n",
      "Started with 2000 training points and ended with 2371\n",
      "Percentage of correct NEW training points last batch: 62.53\n"
     ]
    }
   ],
   "source": [
    "#embeddings thresholds 1 and 100\n",
    "coverage_per_class_embeddings, accuracy_per_class_embeddings, train_per_class_embeddings, cor_train_per_class_embeddings = run_multiple_per_class_avg('embeddings', 'euclidean', 'distance', 100, 1, 100, 10)\n",
    "print(\"Accuracy first batch:\", accuracy_per_class_embeddings[-1][0])\n",
    "print(\"Accuracy last batch:\", accuracy_per_class_embeddings[-1][-1])\n",
    "print(f\"Started with {train_per_class_embeddings[0]} training points and ended with {train_per_class_embeddings[-1]}\")\n",
    "cor_new_train_per_class_embeddings = (cor_train_per_class_embeddings[-1] - train_per_class_embeddings[0]) / (train_per_class_embeddings[-1] - train_per_class_embeddings[0]) * 100\n",
    "print(f\"Percentage of correct NEW training points last batch: {cor_new_train_per_class_embeddings:.2f}\")"
   ]
  },
  {
   "cell_type": "code",
   "execution_count": 22,
   "id": "e4bba849",
   "metadata": {},
   "outputs": [
    {
     "name": "stdout",
     "output_type": "stream",
     "text": [
      "Accuracy first batch: 66.24677605289087\n",
      "Accuracy last batch: 66.35522303402834\n",
      "Started with 2000 training points and ended with 3324\n",
      "Percentage of correct NEW training points last batch: 68.58\n"
     ]
    }
   ],
   "source": [
    "#embeddings thresholds 5 and 100\n",
    "coverage_per_class_embeddings, accuracy_per_class_embeddings, train_per_class_embeddings, cor_train_per_class_embeddings = run_multiple_per_class_avg('embeddings', 'euclidean', 'distance', 100, 5, 100, 10)\n",
    "print(\"Accuracy first batch:\", accuracy_per_class_embeddings[-1][0])\n",
    "print(\"Accuracy last batch:\", accuracy_per_class_embeddings[-1][-1])\n",
    "print(f\"Started with {train_per_class_embeddings[0]} training points and ended with {train_per_class_embeddings[-1]}\")\n",
    "cor_new_train_per_class_embeddings = (cor_train_per_class_embeddings[-1] - train_per_class_embeddings[0]) / (train_per_class_embeddings[-1] - train_per_class_embeddings[0]) * 100\n",
    "print(f\"Percentage of correct NEW training points last batch: {cor_new_train_per_class_embeddings:.2f}\")"
   ]
  },
  {
   "cell_type": "code",
   "execution_count": 19,
   "id": "c02d2563",
   "metadata": {},
   "outputs": [
    {
     "name": "stdout",
     "output_type": "stream",
     "text": [
      "Accuracy first batch: 66.24677605289087\n",
      "Accuracy last batch: 66.64303101398801\n",
      "Started with 2000 training points and ended with 4384\n",
      "Percentage of correct NEW training points last batch: 70.18\n"
     ]
    }
   ],
   "source": [
    "#embeddings thresholds 10 and 100\n",
    "coverage_per_class_embeddings, accuracy_per_class_embeddings, train_per_class_embeddings, cor_train_per_class_embeddings = run_multiple_per_class_avg('embeddings', 'euclidean', 'distance', 100, 10, 100, 10)\n",
    "print(\"Accuracy first batch:\", accuracy_per_class_embeddings[-1][0])\n",
    "print(\"Accuracy last batch:\", accuracy_per_class_embeddings[-1][-1])\n",
    "print(f\"Started with {train_per_class_embeddings[0]} training points and ended with {train_per_class_embeddings[-1]}\")\n",
    "cor_new_train_per_class_embeddings = (cor_train_per_class_embeddings[-1] - train_per_class_embeddings[0]) / (train_per_class_embeddings[-1] - train_per_class_embeddings[0]) * 100\n",
    "print(f\"Percentage of correct NEW training points last batch: {cor_new_train_per_class_embeddings:.2f}\")"
   ]
  },
  {
   "cell_type": "code",
   "execution_count": 20,
   "id": "31ad8cfa",
   "metadata": {},
   "outputs": [
    {
     "name": "stdout",
     "output_type": "stream",
     "text": [
      "Accuracy first batch: 70.15072697529354\n",
      "Accuracy last batch: 69.46721311475412\n",
      "Started with 2000 training points and ended with 2080\n",
      "Percentage of correct NEW training points last batch: 85.00\n"
     ]
    }
   ],
   "source": [
    "#embeddings cosine thresholds 1 and 100\n",
    "coverage_per_class_embeddings_cosine, accuracy_per_class_embeddings_cosine, train_per_class_embeddings_cosine, cor_train_per_class_embeddings_cosine = run_multiple_per_class_avg('embeddings', 'cosine', 'similarity', 100, 1, 100, 10)\n",
    "print(\"Accuracy first batch:\", accuracy_per_class_embeddings_cosine[-1][0])\n",
    "print(\"Accuracy last batch:\", accuracy_per_class_embeddings_cosine[-1][-1])\n",
    "print(f\"Started with {train_per_class_embeddings[0]} training points and ended with {train_per_class_embeddings_cosine[-1]}\")\n",
    "cor_new_train_per_class_embeddings_cosine = (cor_train_per_class_embeddings_cosine[-1] - train_per_class_embeddings_cosine[0]) / (train_per_class_embeddings_cosine[-1] - train_per_class_embeddings_cosine[0]) * 100\n",
    "print(f\"Percentage of correct NEW training points last batch: {cor_new_train_per_class_embeddings_cosine:.2f}\")"
   ]
  },
  {
   "cell_type": "code",
   "execution_count": 23,
   "id": "fe9d8927",
   "metadata": {},
   "outputs": [
    {
     "name": "stdout",
     "output_type": "stream",
     "text": [
      "Accuracy first batch: 70.15072697529354\n",
      "Accuracy last batch: 69.79508196721312\n",
      "Started with 2000 training points and ended with 2612\n",
      "Percentage of correct NEW training points last batch: 85.95\n"
     ]
    }
   ],
   "source": [
    "#embeddings cosine thresholds 5 and 100\n",
    "coverage_per_class_embeddings_cosine, accuracy_per_class_embeddings_cosine, train_per_class_embeddings_cosine, cor_train_per_class_embeddings_cosine = run_multiple_per_class_avg('embeddings', 'cosine', 'similarity', 100, 5, 100, 10)\n",
    "print(\"Accuracy first batch:\", accuracy_per_class_embeddings_cosine[-1][0])\n",
    "print(\"Accuracy last batch:\", accuracy_per_class_embeddings_cosine[-1][-1])\n",
    "print(f\"Started with {train_per_class_embeddings[0]} training points and ended with {train_per_class_embeddings_cosine[-1]}\")\n",
    "cor_new_train_per_class_embeddings_cosine = (cor_train_per_class_embeddings_cosine[-1] - train_per_class_embeddings_cosine[0]) / (train_per_class_embeddings_cosine[-1] - train_per_class_embeddings_cosine[0]) * 100\n",
    "print(f\"Percentage of correct NEW training points last batch: {cor_new_train_per_class_embeddings_cosine:.2f}\")"
   ]
  },
  {
   "cell_type": "code",
   "execution_count": 21,
   "id": "eacd510b",
   "metadata": {},
   "outputs": [
    {
     "name": "stdout",
     "output_type": "stream",
     "text": [
      "Accuracy first batch: 70.15072697529354\n",
      "Accuracy last batch: 69.95901639344262\n",
      "Started with 2000 training points and ended with 3332\n",
      "Percentage of correct NEW training points last batch: 84.68\n"
     ]
    }
   ],
   "source": [
    "#embeddings cosine thresholds 10 and 100\n",
    "coverage_per_class_embeddings_cosine, accuracy_per_class_embeddings_cosine, train_per_class_embeddings_cosine, cor_train_per_class_embeddings_cosine = run_multiple_per_class_avg('embeddings', 'cosine', 'similarity', 100, 10, 100, 10)\n",
    "print(\"Accuracy first batch:\", accuracy_per_class_embeddings_cosine[-1][0])\n",
    "print(\"Accuracy last batch:\", accuracy_per_class_embeddings_cosine[-1][-1])\n",
    "print(f\"Started with {train_per_class_embeddings[0]} training points and ended with {train_per_class_embeddings_cosine[-1]}\")\n",
    "cor_new_train_per_class_embeddings_cosine = (cor_train_per_class_embeddings_cosine[-1] - train_per_class_embeddings_cosine[0]) / (train_per_class_embeddings_cosine[-1] - train_per_class_embeddings_cosine[0]) * 100\n",
    "print(f\"Percentage of correct NEW training points last batch: {cor_new_train_per_class_embeddings_cosine:.2f}\")"
   ]
  },
  {
   "cell_type": "code",
   "execution_count": null,
   "id": "0f421cd2",
   "metadata": {},
   "outputs": [],
   "source": []
  }
 ],
 "metadata": {
  "kernelspec": {
   "display_name": "tcbench",
   "language": "python",
   "name": "python3"
  },
  "language_info": {
   "codemirror_mode": {
    "name": "ipython",
    "version": 3
   },
   "file_extension": ".py",
   "mimetype": "text/x-python",
   "name": "python",
   "nbconvert_exporter": "python",
   "pygments_lexer": "ipython3",
   "version": "3.10.16"
  }
 },
 "nbformat": 4,
 "nbformat_minor": 5
}
