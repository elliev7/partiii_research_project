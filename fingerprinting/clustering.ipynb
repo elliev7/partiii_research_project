{
 "cells": [
  {
   "cell_type": "code",
   "execution_count": 1,
   "id": "81839378",
   "metadata": {},
   "outputs": [],
   "source": [
    "import numpy as np\n",
    "from sklearn.cluster import KMeans, DBSCAN\n",
    "from sklearn.metrics import silhouette_score, adjusted_rand_score, normalized_mutual_info_score"
   ]
  },
  {
   "cell_type": "code",
   "execution_count": 2,
   "id": "b5ecc11f",
   "metadata": {},
   "outputs": [],
   "source": [
    "vectors_baseline = np.load('/home/ev357/tcbench/src/fingerprinting/artifacts-mirage19/baseline_vectors.npy')\n",
    "labels_baseline = np.load('/home/ev357/tcbench/src/fingerprinting/artifacts-mirage19/baseline_labels.npy')\n",
    "vectors_embeddings = np.load('/home/ev357/tcbench/src/fingerprinting/artifacts-mirage19/embeddings_vectors.npy')\n",
    "labels_embeddings = np.load('/home/ev357/tcbench/src/fingerprinting/artifacts-mirage19/embeddings_labels.npy')"
   ]
  },
  {
   "cell_type": "code",
   "execution_count": 3,
   "id": "ffb8816e",
   "metadata": {},
   "outputs": [],
   "source": [
    "def kmeans (feature_matrix, k):\n",
    "    kmeans = KMeans(n_clusters=k, random_state=42, n_init=10)\n",
    "    kmeans_clusters = kmeans.fit_predict(feature_matrix)\n",
    "    return kmeans_clusters\n",
    "\n",
    "kmeans_baseline = kmeans(vectors_baseline, 20)\n",
    "kmeans_embeddings = kmeans(vectors_embeddings, 20)"
   ]
  },
  {
   "cell_type": "code",
   "execution_count": 4,
   "id": "1e1e92ba",
   "metadata": {},
   "outputs": [
    {
     "name": "stdout",
     "output_type": "stream",
     "text": [
      "Baseline Silhouette Score: 0.3360\n",
      "Embeddings Silhouette Score: 0.1194\n",
      "Baseline Adjusted Rand Index (ARI): 0.0528\n",
      "Embeddings Adjusted Rand Index (ARI): 0.3246\n",
      "Baseline Normalized Mutual Info (NMI): 0.1219\n",
      "Embeddings Normalized Mutual Info (NMI): 0.4681\n"
     ]
    }
   ],
   "source": [
    "sil_score_baseline = silhouette_score(vectors_baseline, kmeans_baseline)\n",
    "print(f\"Baseline Silhouette Score: {sil_score_baseline:.4f}\")\n",
    "sil_score_embeddings = silhouette_score(vectors_embeddings, kmeans_embeddings)\n",
    "print(f\"Embeddings Silhouette Score: {sil_score_embeddings:.4f}\")\n",
    "\n",
    "ari_score_baseline = adjusted_rand_score(labels_baseline, kmeans_baseline)\n",
    "print(f\"Baseline Adjusted Rand Index (ARI): {ari_score_baseline:.4f}\")\n",
    "ari_score_embeddings = adjusted_rand_score(labels_embeddings, kmeans_embeddings)\n",
    "print(f\"Embeddings Adjusted Rand Index (ARI): {ari_score_embeddings:.4f}\")\n",
    "\n",
    "nmi_score_baseline = normalized_mutual_info_score(labels_baseline, kmeans_baseline)\n",
    "print(f\"Baseline Normalized Mutual Info (NMI): {nmi_score_baseline:.4f}\")\n",
    "nmi_score_embeddings = normalized_mutual_info_score(labels_embeddings, kmeans_embeddings)\n",
    "print(f\"Embeddings Normalized Mutual Info (NMI): {nmi_score_embeddings:.4f}\")"
   ]
  },
  {
   "cell_type": "code",
   "execution_count": 5,
   "id": "7b5fd559",
   "metadata": {},
   "outputs": [],
   "source": [
    "def dbscan (feature_matrix):\n",
    "    dbscan = DBSCAN(eps = 0.2, min_samples = 100)\n",
    "    dbscan_clusters = dbscan.fit_predict(feature_matrix)\n",
    "    return dbscan_clusters\n",
    "\n",
    "dbscan_baseline = dbscan(vectors_baseline)\n",
    "dbscan_embeddings = dbscan(vectors_embeddings)"
   ]
  },
  {
   "cell_type": "code",
   "execution_count": 6,
   "id": "514433fd",
   "metadata": {},
   "outputs": [
    {
     "name": "stdout",
     "output_type": "stream",
     "text": [
      "Baseline Silhouette Score: -0.0252\n",
      "Embeddings Silhouette Score: 0.9399\n",
      "Baseline Adjusted Rand Index (ARI): 0.0141\n",
      "Embeddings Adjusted Rand Index (ARI): -0.0020\n",
      "Baseline Normalized Mutual Info (NMI): 0.1131\n",
      "Embeddings Normalized Mutual Info (NMI): 0.0954\n"
     ]
    }
   ],
   "source": [
    "valid_points_baseline = dbscan_baseline != -1\n",
    "valid_points_embeddings = dbscan_embeddings != -1\n",
    "sil_score_baseline = silhouette_score(vectors_baseline[valid_points_baseline], dbscan_baseline[valid_points_baseline])\n",
    "print(f\"Baseline Silhouette Score: {sil_score_baseline:.4f}\")\n",
    "sil_score_embeddings = silhouette_score(vectors_embeddings[valid_points_embeddings], dbscan_embeddings[valid_points_embeddings])\n",
    "print(f\"Embeddings Silhouette Score: {sil_score_embeddings:.4f}\")\n",
    "\n",
    "ari_score_baseline = adjusted_rand_score(labels_baseline, dbscan_baseline)\n",
    "print(f\"Baseline Adjusted Rand Index (ARI): {ari_score_baseline:.4f}\")\n",
    "ari_score_embeddings = adjusted_rand_score(labels_embeddings, dbscan_embeddings)\n",
    "print(f\"Embeddings Adjusted Rand Index (ARI): {ari_score_embeddings:.4f}\")\n",
    "\n",
    "nmi_score_baseline = normalized_mutual_info_score(labels_baseline, dbscan_baseline)\n",
    "print(f\"Baseline Normalized Mutual Info (NMI): {nmi_score_baseline:.4f}\")\n",
    "nmi_score_embeddings = normalized_mutual_info_score(labels_embeddings, dbscan_embeddings)\n",
    "print(f\"Embeddings Normalized Mutual Info (NMI): {nmi_score_embeddings:.4f}\")"
   ]
  }
 ],
 "metadata": {
  "kernelspec": {
   "display_name": "tcbench",
   "language": "python",
   "name": "python3"
  },
  "language_info": {
   "codemirror_mode": {
    "name": "ipython",
    "version": 3
   },
   "file_extension": ".py",
   "mimetype": "text/x-python",
   "name": "python",
   "nbconvert_exporter": "python",
   "pygments_lexer": "ipython3",
   "version": "3.10.16"
  }
 },
 "nbformat": 4,
 "nbformat_minor": 5
}
