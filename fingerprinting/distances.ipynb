{
 "cells": [
  {
   "cell_type": "code",
   "execution_count": null,
   "id": "69b77496",
   "metadata": {},
   "outputs": [],
   "source": [
    "import numpy as np\n",
    "import tcbench as tcb\n",
    "import faiss\n",
    "import matplotlib.pyplot as plt\n",
    "#import build_faiss_index from faiss"
   ]
  },
  {
   "cell_type": "code",
   "execution_count": 2,
   "id": "51b01f53",
   "metadata": {},
   "outputs": [],
   "source": [
    "vectors_baseline = np.load('artifacts-mirage19/baseline_vectors.npy')\n",
    "labels_baseline = np.load('artifacts-mirage19/baseline_labels.npy')\n",
    "\n",
    "vectors_embeddings = np.load('artifacts-mirage19/embeddings_vectors.npy')\n",
    "labels_embeddings = np.load('artifacts-mirage19/embeddings_labels.npy')"
   ]
  },
  {
   "cell_type": "code",
   "execution_count": 3,
   "id": "3807326c",
   "metadata": {},
   "outputs": [],
   "source": [
    "df_split = tcb.load_parquet(tcb.DATASETS.MIRAGE19, min_pkts=10, split=True)\n",
    "train_val_indices = np.concatenate([df_split.iloc[0][0], df_split.iloc[0][1]])\n",
    "test_indices = df_split.iloc[0][2]"
   ]
  },
  {
   "cell_type": "code",
   "execution_count": null,
   "id": "d50c33fb",
   "metadata": {},
   "outputs": [],
   "source": [
    "def build_faiss_index(data, labels, train_indices, distance_type, values_per_class):\n",
    "    np.random.seed(42)\n",
    "\n",
    "    filtered_data = data[train_indices]\n",
    "    filtered_labels = labels[train_indices]\n",
    "    d = filtered_data.shape[1]\n",
    "\n",
    "    selected_data = []\n",
    "    selected_indices = []\n",
    "    unique_labels = np.unique(filtered_labels)\n",
    "    for label in unique_labels:\n",
    "        label_indices = np.where(filtered_labels == label)[0]\n",
    "        if values_per_class is None or values_per_class == -1:\n",
    "            selected_label_indices = label_indices\n",
    "        else:\n",
    "            selected_label_indices = np.random.choice(label_indices, size=min(values_per_class, len(label_indices)), replace=False)\n",
    "        selected_data.append(filtered_data[selected_label_indices])\n",
    "        selected_indices.extend(train_indices[selected_label_indices])\n",
    "    selected_data = np.vstack(selected_data)\n",
    "    selected_indices = np.array(selected_indices)\n",
    "\n",
    "    if distance_type == 'euclidean':\n",
    "        index = faiss.IndexFlatL2(d)\n",
    "    elif distance_type == 'cosine':\n",
    "        norms = np.linalg.norm(selected_data, axis=1, keepdims=True)\n",
    "        selected_data = selected_data / norms\n",
    "        index = faiss.IndexFlatIP(d)\n",
    "    else:\n",
    "        raise ValueError(\"Unsupported distance type. Use 'euclidean' or 'cosine'.\")\n",
    "\n",
    "    index.add(selected_data)\n",
    "    return index, selected_indices"
   ]
  },
  {
   "cell_type": "code",
   "execution_count": 27,
   "id": "e4b1a6f1",
   "metadata": {},
   "outputs": [],
   "source": [
    "def search_and_compare_labels(data, labels, test_indices, selected_indices, index, distance_limit):\n",
    "    k = 5\n",
    "    D, I = index.search(data[test_indices], k)\n",
    "    test_labels = labels[test_indices]\n",
    "    neighbor_labels = labels[selected_indices[I.flatten()]].reshape(I.shape)\n",
    "\n",
    "    top_1_matches = 0\n",
    "    top_3_matches = 0\n",
    "    top_5_matches = 0\n",
    "    classified_count = 0\n",
    "\n",
    "    for i in range(len(test_labels)):\n",
    "        if distance_limit is not None and D[i, 0] > distance_limit:\n",
    "            continue\n",
    "\n",
    "        classified_count += 1\n",
    "        top_1_match = test_labels[i] in neighbor_labels[i, :1]\n",
    "        top_3_match = test_labels[i] in neighbor_labels[i, :3]\n",
    "        top_5_match = test_labels[i] in neighbor_labels[i, :5]\n",
    "\n",
    "        if top_1_match:\n",
    "            top_1_matches += 1\n",
    "        if top_3_match:\n",
    "            top_3_matches += 1\n",
    "        if top_5_match:\n",
    "            top_5_matches += 1\n",
    "\n",
    "    if classified_count > 0:\n",
    "        top_1_percentage = (top_1_matches / classified_count) * 100\n",
    "        top_3_percentage = (top_3_matches / classified_count) * 100\n",
    "        top_5_percentage = (top_5_matches / classified_count) * 100\n",
    "    else:\n",
    "        top_1_percentage = top_3_percentage = top_5_percentage = 0\n",
    "    \n",
    "    classified_percentage = (classified_count / len(test_labels)) * 100\n",
    "\n",
    "    return classified_percentage, top_1_percentage, top_3_percentage, top_5_percentage"
   ]
  },
  {
   "cell_type": "code",
   "execution_count": 34,
   "id": "59d7cd23",
   "metadata": {},
   "outputs": [
    {
     "name": "stdout",
     "output_type": "stream",
     "text": [
      "Baseline euclidean classified percentage: 59.11%\n",
      "Baseline euclidean match in top 1 neighbor: 79.39%\n",
      "Baseline euclidean match in top 3 neighbors: 85.58%\n",
      "Baseline euclidean match in top 5 neighbors: 87.93%\n"
     ]
    }
   ],
   "source": [
    "index_baseline, selected_indices = build_faiss_index(vectors_baseline, labels_baseline, train_val_indices, 'euclidean', None)\n",
    "classified_baseline, top_1_baseline, top_3_baseline, top_5_baseline = search_and_compare_labels(vectors_baseline, labels_baseline, test_indices, selected_indices, index_baseline, 0.0001)\n",
    "\n",
    "print(f\"Baseline euclidean classified percentage: {classified_baseline:.2f}%\")\n",
    "print(f\"Baseline euclidean match in top 1 neighbor: {top_1_baseline:.2f}%\")\n",
    "print(f\"Baseline euclidean match in top 3 neighbors: {top_3_baseline:.2f}%\")\n",
    "print(f\"Baseline euclidean match in top 5 neighbors: {top_5_baseline:.2f}%\")"
   ]
  },
  {
   "cell_type": "code",
   "execution_count": null,
   "id": "09255e12",
   "metadata": {},
   "outputs": [],
   "source": []
  }
 ],
 "metadata": {
  "kernelspec": {
   "display_name": "tcbench",
   "language": "python",
   "name": "python3"
  },
  "language_info": {
   "codemirror_mode": {
    "name": "ipython",
    "version": 3
   },
   "file_extension": ".py",
   "mimetype": "text/x-python",
   "name": "python",
   "nbconvert_exporter": "python",
   "pygments_lexer": "ipython3",
   "version": "3.10.16"
  }
 },
 "nbformat": 4,
 "nbformat_minor": 5
}
